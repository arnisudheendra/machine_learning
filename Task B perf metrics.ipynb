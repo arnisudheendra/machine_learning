{
 "cells": [
  {
   "cell_type": "markdown",
   "metadata": {},
   "source": [
    "# import the libraries required"
   ]
  },
  {
   "cell_type": "code",
   "execution_count": 1,
   "metadata": {},
   "outputs": [],
   "source": [
    "import numpy as np\n",
    "import pandas as pd\n"
   ]
  },
  {
   "cell_type": "markdown",
   "metadata": {},
   "source": [
    "# read the csv file"
   ]
  },
  {
   "cell_type": "code",
   "execution_count": 2,
   "metadata": {},
   "outputs": [
    {
     "name": "stdout",
     "output_type": "stream",
     "text": [
      "     y     proba\n",
      "0  0.0  0.281035\n",
      "1  0.0  0.465152\n",
      "2  0.0  0.352793\n",
      "3  0.0  0.157818\n",
      "4  0.0  0.276648\n",
      "5  0.0  0.190260\n",
      "6  0.0  0.320328\n",
      "7  0.0  0.435013\n",
      "8  0.0  0.284849\n",
      "9  0.0  0.427919\n"
     ]
    },
    {
     "data": {
      "text/plain": [
       "(10100, 2)"
      ]
     },
     "execution_count": 2,
     "metadata": {},
     "output_type": "execute_result"
    }
   ],
   "source": [
    "a_csv=pd.read_csv('5_b.csv')\n",
    "print(a_csv.head(10))\n",
    "a_csv.shape\n",
    "        "
   ]
  },
  {
   "cell_type": "markdown",
   "metadata": {},
   "source": [
    "# change the prob values to binary values.using thresholds."
   ]
  },
  {
   "cell_type": "code",
   "execution_count": 3,
   "metadata": {},
   "outputs": [],
   "source": [
    "df=a_csv['proba']"
   ]
  },
  {
   "cell_type": "code",
   "execution_count": 4,
   "metadata": {},
   "outputs": [
    {
     "name": "stdout",
     "output_type": "stream",
     "text": [
      "10100\n"
     ]
    }
   ],
   "source": [
    "print(len(df))\n"
   ]
  },
  {
   "cell_type": "markdown",
   "metadata": {},
   "source": [
    "# convert probabilistic values to either 0 or 1 based on threshold"
   ]
  },
  {
   "cell_type": "code",
   "execution_count": 5,
   "metadata": {},
   "outputs": [
    {
     "name": "stdout",
     "output_type": "stream",
     "text": [
      "0    0.0\n",
      "1    0.0\n",
      "2    0.0\n",
      "3    0.0\n",
      "4    0.0\n",
      "5    0.0\n",
      "6    0.0\n",
      "7    0.0\n",
      "8    0.0\n",
      "9    0.0\n",
      "Name: proba, dtype: float64\n",
      "positive points count 294\n",
      "positive points count 9806\n"
     ]
    }
   ],
   "source": [
    "count=0\n",
    "count1=0\n",
    "for i in range(0,len(df)):\n",
    "    if df.loc[i]>0.5:\n",
    "        count+=1\n",
    "        df=df.replace(df.loc[i],1)\n",
    "    elif df.loc[i]<=0.5:\n",
    "        count1+=1\n",
    "        df=df.replace(df.loc[i],0)\n",
    "print(df.head(10))\n",
    "print('positive points count',count)\n",
    "print('positive points count',count1)"
   ]
  },
  {
   "cell_type": "code",
   "execution_count": 6,
   "metadata": {},
   "outputs": [
    {
     "data": {
      "text/plain": [
       "count    10100.000000\n",
       "mean         0.029109\n",
       "std          0.168120\n",
       "min          0.000000\n",
       "25%          0.000000\n",
       "50%          0.000000\n",
       "75%          0.000000\n",
       "max          1.000000\n",
       "Name: proba, dtype: float64"
      ]
     },
     "execution_count": 6,
     "metadata": {},
     "output_type": "execute_result"
    }
   ],
   "source": [
    "df.describe()"
   ]
  },
  {
   "cell_type": "markdown",
   "metadata": {},
   "source": [
    "# create column in the dataset to store yhat values"
   ]
  },
  {
   "cell_type": "code",
   "execution_count": 7,
   "metadata": {},
   "outputs": [],
   "source": [
    "a_csv['yhat']=df.values"
   ]
  },
  {
   "cell_type": "code",
   "execution_count": 8,
   "metadata": {},
   "outputs": [
    {
     "data": {
      "text/html": [
       "<div>\n",
       "<style scoped>\n",
       "    .dataframe tbody tr th:only-of-type {\n",
       "        vertical-align: middle;\n",
       "    }\n",
       "\n",
       "    .dataframe tbody tr th {\n",
       "        vertical-align: top;\n",
       "    }\n",
       "\n",
       "    .dataframe thead th {\n",
       "        text-align: right;\n",
       "    }\n",
       "</style>\n",
       "<table border=\"1\" class=\"dataframe\">\n",
       "  <thead>\n",
       "    <tr style=\"text-align: right;\">\n",
       "      <th></th>\n",
       "      <th>y</th>\n",
       "      <th>proba</th>\n",
       "      <th>yhat</th>\n",
       "    </tr>\n",
       "  </thead>\n",
       "  <tbody>\n",
       "    <tr>\n",
       "      <th>0</th>\n",
       "      <td>0.0</td>\n",
       "      <td>0.281035</td>\n",
       "      <td>0.0</td>\n",
       "    </tr>\n",
       "    <tr>\n",
       "      <th>1</th>\n",
       "      <td>0.0</td>\n",
       "      <td>0.465152</td>\n",
       "      <td>0.0</td>\n",
       "    </tr>\n",
       "    <tr>\n",
       "      <th>2</th>\n",
       "      <td>0.0</td>\n",
       "      <td>0.352793</td>\n",
       "      <td>0.0</td>\n",
       "    </tr>\n",
       "    <tr>\n",
       "      <th>3</th>\n",
       "      <td>0.0</td>\n",
       "      <td>0.157818</td>\n",
       "      <td>0.0</td>\n",
       "    </tr>\n",
       "    <tr>\n",
       "      <th>4</th>\n",
       "      <td>0.0</td>\n",
       "      <td>0.276648</td>\n",
       "      <td>0.0</td>\n",
       "    </tr>\n",
       "    <tr>\n",
       "      <th>5</th>\n",
       "      <td>0.0</td>\n",
       "      <td>0.190260</td>\n",
       "      <td>0.0</td>\n",
       "    </tr>\n",
       "    <tr>\n",
       "      <th>6</th>\n",
       "      <td>0.0</td>\n",
       "      <td>0.320328</td>\n",
       "      <td>0.0</td>\n",
       "    </tr>\n",
       "    <tr>\n",
       "      <th>7</th>\n",
       "      <td>0.0</td>\n",
       "      <td>0.435013</td>\n",
       "      <td>0.0</td>\n",
       "    </tr>\n",
       "    <tr>\n",
       "      <th>8</th>\n",
       "      <td>0.0</td>\n",
       "      <td>0.284849</td>\n",
       "      <td>0.0</td>\n",
       "    </tr>\n",
       "    <tr>\n",
       "      <th>9</th>\n",
       "      <td>0.0</td>\n",
       "      <td>0.427919</td>\n",
       "      <td>0.0</td>\n",
       "    </tr>\n",
       "  </tbody>\n",
       "</table>\n",
       "</div>"
      ],
      "text/plain": [
       "     y     proba  yhat\n",
       "0  0.0  0.281035   0.0\n",
       "1  0.0  0.465152   0.0\n",
       "2  0.0  0.352793   0.0\n",
       "3  0.0  0.157818   0.0\n",
       "4  0.0  0.276648   0.0\n",
       "5  0.0  0.190260   0.0\n",
       "6  0.0  0.320328   0.0\n",
       "7  0.0  0.435013   0.0\n",
       "8  0.0  0.284849   0.0\n",
       "9  0.0  0.427919   0.0"
      ]
     },
     "execution_count": 8,
     "metadata": {},
     "output_type": "execute_result"
    }
   ],
   "source": [
    "a_csv.head(10)"
   ]
  },
  {
   "cell_type": "markdown",
   "metadata": {},
   "source": [
    "# calculate total number of positive and negative points in the dataset"
   ]
  },
  {
   "cell_type": "code",
   "execution_count": 9,
   "metadata": {},
   "outputs": [
    {
     "name": "stdout",
     "output_type": "stream",
     "text": [
      "positive points count(p) 100\n",
      "negative points count(n) 10000\n"
     ]
    }
   ],
   "source": [
    "pos=0\n",
    "neg=0\n",
    "def sudhi():\n",
    "    global pos\n",
    "    global neg\n",
    "    for i in range(0,len(a_csv)):\n",
    "        if a_csv['y'].loc[i]==1:\n",
    "            pos+=1\n",
    "            \n",
    "        elif a_csv['y'].loc[i]==0:\n",
    "            neg+=1\n",
    "    return pos,neg\n",
    "sudhi()\n",
    "print('positive points count(p)',pos)\n",
    "print('negative points count(n)',neg)\n",
    "    "
   ]
  },
  {
   "cell_type": "code",
   "execution_count": 10,
   "metadata": {},
   "outputs": [
    {
     "name": "stdout",
     "output_type": "stream",
     "text": [
      "100\n",
      "10000\n"
     ]
    }
   ],
   "source": [
    "print(pos)\n",
    "print(neg)"
   ]
  },
  {
   "cell_type": "markdown",
   "metadata": {},
   "source": [
    "# CONFUSION MATRIX CALCULATION"
   ]
  },
  {
   "cell_type": "code",
   "execution_count": 12,
   "metadata": {},
   "outputs": [
    {
     "name": "stdout",
     "output_type": "stream",
     "text": [
      "TP 55\n",
      "TN 9761\n",
      "FP 239\n",
      "FN 45\n",
      "CONFUSION MATRIX \n",
      " [[9761   45]\n",
      " [ 239   55]]\n"
     ]
    }
   ],
   "source": [
    "confusion_matrix=[]\n",
    "TN=0\n",
    "FN=0\n",
    "FP=0\n",
    "TP=0\n",
    "for i in range(0,len(a_csv)):\n",
    "    global TN\n",
    "    global TP\n",
    "    global FP\n",
    "    global FN\n",
    "    if a_csv['y'].loc[i]==a_csv['yhat'].loc[i]:\n",
    "        \n",
    "        if a_csv['y'].loc[i]==0:\n",
    "            \n",
    "            TN+=1\n",
    "            \n",
    "        elif a_csv['y'].loc[i]==1:\n",
    "            \n",
    "            TP+=1\n",
    "            \n",
    "    elif a_csv['y'].loc[i]!=a_csv['yhat'].loc[i]:\n",
    "        \n",
    "        if a_csv['y'].loc[i]==0 and a_csv['yhat'].loc[i]==1:\n",
    "            FP+=1\n",
    "        elif a_csv['y'].loc[i]==1 and a_csv['yhat'].loc[i]==0:\n",
    "            FN+=1\n",
    "            \n",
    "print('TP',TP)\n",
    "print('TN',TN)\n",
    "print('FP',FP)\n",
    "print('FN',FN)\n",
    "confusion_matrix.append(TN)\n",
    "confusion_matrix.append(FN)\n",
    "confusion_matrix.append(FP)\n",
    "confusion_matrix.append(TP)\n",
    "\n",
    "x=np.reshape(confusion_matrix,(2, 2))\n",
    "#print(confusion_matrix)\n",
    "print('CONFUSION MATRIX \\n',x)"
   ]
  },
  {
   "cell_type": "markdown",
   "metadata": {},
   "source": [
    "# PRECISION , RECALL , F1-SCORE calculation"
   ]
  },
  {
   "cell_type": "code",
   "execution_count": 13,
   "metadata": {},
   "outputs": [
    {
     "name": "stdout",
     "output_type": "stream",
     "text": [
      "precision \n",
      " 0.1870748299319728\n",
      "recall \n",
      " 0.55\n",
      "F1-score \n",
      " 0.2791878172588833\n"
     ]
    }
   ],
   "source": [
    "precision=((TP)/(TP+FP))\n",
    "recall=((TP)/(TP+FN))\n",
    "print('precision \\n',precision)\n",
    "print('recall \\n',recall)\n",
    "F1_score=2*(precision*recall)/(precision+recall)\n",
    "print('F1-score \\n',F1_score)\n"
   ]
  },
  {
   "cell_type": "markdown",
   "metadata": {},
   "source": [
    "# ACCURACY SCORE"
   ]
  },
  {
   "cell_type": "code",
   "execution_count": 14,
   "metadata": {},
   "outputs": [
    {
     "name": "stdout",
     "output_type": "stream",
     "text": [
      "accuracy score \n",
      " 0.9718811881188119\n"
     ]
    }
   ],
   "source": [
    "accuracy_score=(TP+TN)/(TP+FP+FN+TN)\n",
    "print('accuracy score \\n',accuracy_score)"
   ]
  },
  {
   "cell_type": "markdown",
   "metadata": {},
   "source": [
    "# COMPUTE AUC by considering each probability value in yhat as threshold and compute TPR and FPR"
   ]
  },
  {
   "cell_type": "code",
   "execution_count": 15,
   "metadata": {},
   "outputs": [
    {
     "name": "stderr",
     "output_type": "stream",
     "text": [
      "100%|███████████████████████████████████████████████████████████████████████████| 10100/10100 [01:29<00:00, 112.42it/s]\n"
     ]
    },
    {
     "name": "stdout",
     "output_type": "stream",
     "text": [
      "AUC score is :  0.9376570000000001\n",
      "TP 0\n",
      "FP 0\n",
      "TN 10000\n",
      "FN 100\n"
     ]
    }
   ],
   "source": [
    "tpr_lst=[]\n",
    "fpr_lst=[]\n",
    "fn_lst=[]\n",
    "tn_lst=[]\n",
    "from tqdm import tqdm\n",
    "a_csv=pd.read_csv('5_b.csv')\n",
    "#a_csv['proba']=sorted(a_csv['proba'])\n",
    "sorted_data=a_csv.sort_values('proba',ascending=True)\n",
    "for threshold in tqdm(sorted_data['proba']):\n",
    "    y_hat=[]\n",
    "    for value in sorted_data['proba']:\n",
    "        if (value<=threshold):\n",
    "            y_hat.append(0.0)\n",
    "        else:\n",
    "            y_hat.append(1.0)\n",
    "    #print(y_hat[:10])\n",
    "    sorted_data['y_pred']=y_hat\n",
    "    #print(a_csv.head(10))\n",
    "    for k in a_csv:\n",
    "        tp = (((sorted_data['y'])==1.0) & ((sorted_data['y_pred']) == 1.0)).sum()   \n",
    "        fp = (((sorted_data['y'])==0.0) & ((sorted_data['y_pred']) == 1.0)).sum()\n",
    "        tn=(((sorted_data['y'])==0.0) & ((sorted_data['y_pred']) == 0.0)).sum()\n",
    "        fn=(((sorted_data['y'])==1.0) & ((sorted_data['y_pred']) == 0.0)).sum()\n",
    "\n",
    "    tpr_lst.append(tp/(tp+fn))\n",
    "    fpr_lst.append(fp/(fp+tn))\n",
    "    #print('TPR\\n',tpr_lst[:])\n",
    "    \n",
    "    #print('FPR\\n',fpr_lst[:])\n",
    "    \n",
    "    tn_lst.append(tn)\n",
    "    fn_lst.append(fn)\n",
    "x=sorted(tpr_lst)\n",
    "y=sorted(fpr_lst)\n",
    "auc = np.trapz(x,y)\n",
    "\n",
    "print('AUC score is : ',auc)\n",
    "print('TP',tp)\n",
    "print('FP',fp)\n",
    "print('TN',tn)\n",
    "print('FN',fn)"
   ]
  },
  {
   "cell_type": "code",
   "execution_count": null,
   "metadata": {},
   "outputs": [],
   "source": []
  }
 ],
 "metadata": {
  "kernelspec": {
   "display_name": "Python 3",
   "language": "python",
   "name": "python3"
  },
  "language_info": {
   "codemirror_mode": {
    "name": "ipython",
    "version": 3
   },
   "file_extension": ".py",
   "mimetype": "text/x-python",
   "name": "python",
   "nbconvert_exporter": "python",
   "pygments_lexer": "ipython3",
   "version": "3.6.5"
  }
 },
 "nbformat": 4,
 "nbformat_minor": 2
}
