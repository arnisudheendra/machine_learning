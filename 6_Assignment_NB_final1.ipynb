{
 "cells": [
  {
   "cell_type": "markdown",
   "metadata": {
    "colab_type": "text",
    "id": "Dnubs-Nnb3cw"
   },
   "source": [
    "# Assignment 6: Apply NB"
   ]
  },
  {
   "cell_type": "markdown",
   "metadata": {
    "colab_type": "text",
    "id": "12krXa2pb3c1"
   },
   "source": [
    "<ol>\n",
    "    <li><strong>Apply Multinomial NB on these feature sets</strong>\n",
    "        <ul>\n",
    "            <li><font color='red'>Set 1</font>: categorical, numerical features + preprocessed_eassay (BOW)</li>\n",
    "            <li><font color='red'>Set 2</font>: categorical, numerical features + preprocessed_eassay (TFIDF)</li>\n",
    "        </ul>\n",
    "    </li>\n",
    "    <li><strong>The hyper paramter tuning(find best alpha:smoothing parameter)</strong>\n",
    "        <ul>\n",
    "    <li>Find the best hyper parameter which will give the maximum <a href='https://www.appliedaicourse.com/course/applied-ai-course-online/lessons/receiver-operating-characteristic-curve-roc-curve-and-auc-1/'>AUC</a> value</li>\n",
    "    <li>find the best hyper paramter using k-fold cross validation(use GridsearchCV or RandomsearchCV)/simple cross validation data (write for loop to iterate over hyper parameter values)</li>\n",
    "    <li></li>\n",
    "        </ul>\n",
    "    </li>\n",
    "    <li>\n",
    "    <strong>Representation of results</strong>\n",
    "        <ul>\n",
    "    <li>You need to plot the performance of model both on train data and cross validation data for each hyper parameter, like shown in the figure\n",
    "    <img src='https://i.imgur.com/hUv6aEy.jpg' width=300px></li>\n",
    "    <li>Once after you found the best hyper parameter, you need to train your model with it, and find the AUC on test data and plot the ROC curve on both train and test.\n",
    "    <img src='https://i.imgur.com/wMQDTFe.jpg' width=300px></li>\n",
    "    <li>Along with plotting ROC curve, you need to print the <a href='https://www.appliedaicourse.com/course/applied-ai-course-online/lessons/confusion-matrix-tpr-fpr-fnr-tnr-1/'>confusion matrix</a> with predicted and original labels of test data points\n",
    "    <img src='https://i.imgur.com/IdN5Ctv.png' width=300px></li>\n",
    "        </ul>\n",
    "    </li>\n",
    "    <li>\n",
    "fine the top 20 features from either from feature <font color='red'>Set 1</font> or feature <font color='red'>Set 2</font> using absolute values of `feature_log_prob_ ` parameter of `MultinomialNB` \n",
    "(https://scikit-learn.org/stable/modules/generated/sklearn.naive_bayes.MultinomialNB.html) and print their corresponding feature names\n",
    "    </li>\n",
    "    <li>You need to summarize the results at the end of the notebook, summarize it in the table format\n",
    "        <img src='http://i.imgur.com/YVpIGGE.jpg' width=400px>\n",
    "    </li>\n",
    "</ol>"
   ]
  },
  {
   "cell_type": "markdown",
   "metadata": {
    "colab_type": "text",
    "id": "inzYCIaib3c3"
   },
   "source": [
    "<h1>2. Naive Bayes </h1>"
   ]
  },
  {
   "cell_type": "markdown",
   "metadata": {
    "colab_type": "text",
    "id": "FYqCIxzFb3c5"
   },
   "source": [
    "## 1.1 Loading Data"
   ]
  },
  {
   "cell_type": "code",
   "execution_count": 1,
   "metadata": {
    "colab": {},
    "colab_type": "code",
    "id": "dA1jknyqb3c_"
   },
   "outputs": [],
   "source": [
    "%matplotlib inline\n",
    "import warnings\n",
    "warnings.filterwarnings(\"ignore\")\n",
    "\n",
    "import sqlite3\n",
    "import pandas as pd\n",
    "import numpy as np\n",
    "import nltk\n",
    "import string\n",
    "import matplotlib.pyplot as plt\n",
    "import seaborn as sns\n",
    "from sklearn.feature_extraction.text import TfidfTransformer\n",
    "from sklearn.feature_extraction.text import TfidfVectorizer\n",
    "\n",
    "from sklearn.feature_extraction.text import CountVectorizer\n",
    "from sklearn.metrics import confusion_matrix\n",
    "from sklearn import metrics\n",
    "from sklearn.metrics import roc_curve, auc\n",
    "from nltk.stem.porter import PorterStemmer\n",
    "\n",
    "import re\n",
    "# Tutorial about Python regular expressions: https://pymotw.com/2/re/\n",
    "import string\n",
    "from nltk.corpus import stopwords\n",
    "from sklearn.model_selection import train_test_split \n",
    "from gensim.models import KeyedVectors\n",
    "from tqdm import tqdm\n",
    "import os\n",
    "from collections import Counter\n"
   ]
  },
  {
   "cell_type": "code",
   "execution_count": 2,
   "metadata": {},
   "outputs": [
    {
     "data": {
      "text/plain": [
       "array(['school_state', 'teacher_prefix', 'project_grade_category',\n",
       "       'teacher_number_of_previously_posted_projects',\n",
       "       'project_is_approved', 'clean_categories', 'clean_subcategories',\n",
       "       'essay', 'price', 'project_title'], dtype=object)"
      ]
     },
     "execution_count": 2,
     "metadata": {},
     "output_type": "execute_result"
    }
   ],
   "source": [
    "data = pd.read_csv('preprocessed_data.csv',nrows=50000)\n",
    "\n",
    "data.columns.values"
   ]
  },
  {
   "cell_type": "code",
   "execution_count": 3,
   "metadata": {},
   "outputs": [
    {
     "data": {
      "text/plain": [
       "(50000, 10)"
      ]
     },
     "execution_count": 3,
     "metadata": {},
     "output_type": "execute_result"
    }
   ],
   "source": [
    "data.shape"
   ]
  },
  {
   "cell_type": "markdown",
   "metadata": {},
   "source": [
    "# Preprocess categorical features PROJECT TITLE"
   ]
  },
  {
   "cell_type": "markdown",
   "metadata": {},
   "source": [
    "# 1) project title"
   ]
  },
  {
   "cell_type": "code",
   "execution_count": 4,
   "metadata": {},
   "outputs": [],
   "source": [
    "# https://stackoverflow.com/a/47091490/4084039\n",
    "import re\n",
    "\n",
    "def decontracted(phrase):\n",
    "    # specific\n",
    "    phrase = re.sub(r\"won't\", \"will not\", phrase)\n",
    "    phrase = re.sub(r\"can\\'t\", \"can not\", phrase)\n",
    "\n",
    "    # general\n",
    "    phrase = re.sub(r\"n\\'t\", \" not\", phrase)\n",
    "    phrase = re.sub(r\"\\'re\", \" are\", phrase)\n",
    "    phrase = re.sub(r\"\\'s\", \" is\", phrase)\n",
    "    phrase = re.sub(r\"\\'d\", \" would\", phrase)\n",
    "    phrase = re.sub(r\"\\'ll\", \" will\", phrase)\n",
    "    phrase = re.sub(r\"\\'t\", \" not\", phrase)\n",
    "    phrase = re.sub(r\"\\'ve\", \" have\", phrase)\n",
    "    phrase = re.sub(r\"\\'m\", \" am\", phrase)\n",
    "    return phrase\n",
    "# https://gist.github.com/sebleier/554280\n",
    "# we are removing the words from the stop words list: 'no', 'nor', 'not'\n",
    "stopwords= ['i', 'me', 'my', 'myself', 'we', 'our', 'ours', 'ourselves', 'you', \"you're\", \"you've\",\\\n",
    "            \"you'll\", \"you'd\", 'your', 'yours', 'yourself', 'yourselves', 'he', 'him', 'his', 'himself', \\\n",
    "            'she', \"she's\", 'her', 'hers', 'herself', 'it', \"it's\", 'its', 'itself', 'they', 'them', 'their',\\\n",
    "            'theirs', 'themselves', 'what', 'which', 'who', 'whom', 'this', 'that', \"that'll\", 'these', 'those', \\\n",
    "            'am', 'is', 'are', 'was', 'were', 'be', 'been', 'being', 'have', 'has', 'had', 'having', 'do', 'does', \\\n",
    "            'did', 'doing', 'a', 'an', 'the', 'and', 'but', 'if', 'or', 'because', 'as', 'until', 'while', 'of', \\\n",
    "            'at', 'by', 'for', 'with', 'about', 'against', 'between', 'into', 'through', 'during', 'before', 'after',\\\n",
    "            'above', 'below', 'to', 'from', 'up', 'down', 'in', 'out', 'on', 'off', 'over', 'under', 'again', 'further',\\\n",
    "            'then', 'once', 'here', 'there', 'when', 'where', 'why', 'how', 'all', 'any', 'both', 'each', 'few', 'more',\\\n",
    "            'most', 'other', 'some', 'such', 'only', 'own', 'same', 'so', 'than', 'too', 'very', \\\n",
    "            's', 't', 'can', 'will', 'just', 'don', \"don't\", 'should', \"should've\", 'now', 'd', 'll', 'm', 'o', 're', \\\n",
    "            've', 'y', 'ain', 'aren', \"aren't\", 'couldn', \"couldn't\", 'didn', \"didn't\", 'doesn', \"doesn't\", 'hadn',\\\n",
    "            \"hadn't\", 'hasn', \"hasn't\", 'haven', \"haven't\", 'isn', \"isn't\", 'ma', 'mightn', \"mightn't\", 'mustn',\\\n",
    "            \"mustn't\", 'needn', \"needn't\", 'shan', \"shan't\", 'shouldn', \"shouldn't\", 'wasn', \"wasn't\", 'weren', \"weren't\", \\\n",
    "            'won', \"won't\", 'wouldn', \"wouldn't\"]\n",
    "from tqdm import tqdm\n",
    "def preprocess_text(text_data):\n",
    "    preprocessed_text = []\n",
    "    # tqdm is for printing the status bar\n",
    "    for sentance in tqdm(text_data):\n",
    "        sent = decontracted(sentance)\n",
    "        sent = sent.replace('\\\\r', ' ')\n",
    "        sent = sent.replace('\\\\n', ' ')\n",
    "        sent = sent.replace('\\\\\"', ' ')\n",
    "        sent = re.sub('[^A-Za-z0-9]+', ' ', sent)\n",
    "        # https://gist.github.com/sebleier/554280\n",
    "        sent = ' '.join(e for e in sent.split() if e.lower() not in stopwords)\n",
    "        preprocessed_text.append(sent.lower().strip())\n",
    "    return preprocessed_text"
   ]
  },
  {
   "cell_type": "code",
   "execution_count": 5,
   "metadata": {},
   "outputs": [
    {
     "name": "stderr",
     "output_type": "stream",
     "text": [
      "100%|█████████████████████████████████████████████████████████████████████████| 50000/50000 [00:01<00:00, 39085.51it/s]\n"
     ]
    }
   ],
   "source": [
    "preprocessed_titles = preprocess_text(data['project_title'].values)"
   ]
  },
  {
   "cell_type": "markdown",
   "metadata": {},
   "source": [
    "# creating new column with preprocessed project title values."
   ]
  },
  {
   "cell_type": "code",
   "execution_count": 6,
   "metadata": {},
   "outputs": [],
   "source": [
    "data['cleaned_project_title']=preprocessed_titles"
   ]
  },
  {
   "cell_type": "code",
   "execution_count": 7,
   "metadata": {
    "scrolled": true
   },
   "outputs": [
    {
     "data": {
      "text/html": [
       "<div>\n",
       "<style scoped>\n",
       "    .dataframe tbody tr th:only-of-type {\n",
       "        vertical-align: middle;\n",
       "    }\n",
       "\n",
       "    .dataframe tbody tr th {\n",
       "        vertical-align: top;\n",
       "    }\n",
       "\n",
       "    .dataframe thead th {\n",
       "        text-align: right;\n",
       "    }\n",
       "</style>\n",
       "<table border=\"1\" class=\"dataframe\">\n",
       "  <thead>\n",
       "    <tr style=\"text-align: right;\">\n",
       "      <th></th>\n",
       "      <th>school_state</th>\n",
       "      <th>teacher_prefix</th>\n",
       "      <th>project_grade_category</th>\n",
       "      <th>teacher_number_of_previously_posted_projects</th>\n",
       "      <th>project_is_approved</th>\n",
       "      <th>clean_categories</th>\n",
       "      <th>clean_subcategories</th>\n",
       "      <th>essay</th>\n",
       "      <th>price</th>\n",
       "      <th>cleaned_project_title</th>\n",
       "    </tr>\n",
       "  </thead>\n",
       "  <tbody>\n",
       "    <tr>\n",
       "      <th>0</th>\n",
       "      <td>ca</td>\n",
       "      <td>mrs</td>\n",
       "      <td>grades_prek_2</td>\n",
       "      <td>53</td>\n",
       "      <td>1</td>\n",
       "      <td>math_science</td>\n",
       "      <td>appliedsciences health_lifescience</td>\n",
       "      <td>i fortunate enough use fairy tale stem kits cl...</td>\n",
       "      <td>725.05</td>\n",
       "      <td>educational support english learners home</td>\n",
       "    </tr>\n",
       "    <tr>\n",
       "      <th>1</th>\n",
       "      <td>ut</td>\n",
       "      <td>ms</td>\n",
       "      <td>grades_3_5</td>\n",
       "      <td>4</td>\n",
       "      <td>1</td>\n",
       "      <td>specialneeds</td>\n",
       "      <td>specialneeds</td>\n",
       "      <td>imagine 8 9 years old you third grade classroo...</td>\n",
       "      <td>213.03</td>\n",
       "      <td>wanted projector hungry learners</td>\n",
       "    </tr>\n",
       "    <tr>\n",
       "      <th>2</th>\n",
       "      <td>ca</td>\n",
       "      <td>mrs</td>\n",
       "      <td>grades_prek_2</td>\n",
       "      <td>10</td>\n",
       "      <td>1</td>\n",
       "      <td>literacy_language</td>\n",
       "      <td>literacy</td>\n",
       "      <td>having class 24 students comes diverse learner...</td>\n",
       "      <td>329.00</td>\n",
       "      <td>soccer equipment awesome middle school students</td>\n",
       "    </tr>\n",
       "    <tr>\n",
       "      <th>3</th>\n",
       "      <td>ga</td>\n",
       "      <td>mrs</td>\n",
       "      <td>grades_prek_2</td>\n",
       "      <td>2</td>\n",
       "      <td>1</td>\n",
       "      <td>appliedlearning</td>\n",
       "      <td>earlydevelopment</td>\n",
       "      <td>i recently read article giving students choice...</td>\n",
       "      <td>481.04</td>\n",
       "      <td>techie kindergarteners</td>\n",
       "    </tr>\n",
       "    <tr>\n",
       "      <th>4</th>\n",
       "      <td>wa</td>\n",
       "      <td>mrs</td>\n",
       "      <td>grades_3_5</td>\n",
       "      <td>2</td>\n",
       "      <td>1</td>\n",
       "      <td>literacy_language</td>\n",
       "      <td>literacy</td>\n",
       "      <td>my students crave challenge eat obstacles brea...</td>\n",
       "      <td>17.74</td>\n",
       "      <td>interactive math tools</td>\n",
       "    </tr>\n",
       "  </tbody>\n",
       "</table>\n",
       "</div>"
      ],
      "text/plain": [
       "  school_state teacher_prefix project_grade_category  \\\n",
       "0           ca            mrs          grades_prek_2   \n",
       "1           ut             ms             grades_3_5   \n",
       "2           ca            mrs          grades_prek_2   \n",
       "3           ga            mrs          grades_prek_2   \n",
       "4           wa            mrs             grades_3_5   \n",
       "\n",
       "   teacher_number_of_previously_posted_projects  project_is_approved  \\\n",
       "0                                            53                    1   \n",
       "1                                             4                    1   \n",
       "2                                            10                    1   \n",
       "3                                             2                    1   \n",
       "4                                             2                    1   \n",
       "\n",
       "    clean_categories                 clean_subcategories  \\\n",
       "0       math_science  appliedsciences health_lifescience   \n",
       "1       specialneeds                        specialneeds   \n",
       "2  literacy_language                            literacy   \n",
       "3    appliedlearning                    earlydevelopment   \n",
       "4  literacy_language                            literacy   \n",
       "\n",
       "                                               essay   price  \\\n",
       "0  i fortunate enough use fairy tale stem kits cl...  725.05   \n",
       "1  imagine 8 9 years old you third grade classroo...  213.03   \n",
       "2  having class 24 students comes diverse learner...  329.00   \n",
       "3  i recently read article giving students choice...  481.04   \n",
       "4  my students crave challenge eat obstacles brea...   17.74   \n",
       "\n",
       "                             cleaned_project_title  \n",
       "0        educational support english learners home  \n",
       "1                 wanted projector hungry learners  \n",
       "2  soccer equipment awesome middle school students  \n",
       "3                           techie kindergarteners  \n",
       "4                           interactive math tools  "
      ]
     },
     "execution_count": 7,
     "metadata": {},
     "output_type": "execute_result"
    }
   ],
   "source": [
    "data=data.drop('project_title',axis=1)\n",
    "data.head(5)"
   ]
  },
  {
   "cell_type": "markdown",
   "metadata": {
    "colab_type": "text",
    "id": "WtVV13Fyb3dH"
   },
   "source": [
    "<h2>1.2 Splitting data into Train and cross validation(or test): Stratified Sampling</h2>"
   ]
  },
  {
   "cell_type": "code",
   "execution_count": 8,
   "metadata": {},
   "outputs": [],
   "source": [
    "y = data['project_is_approved'].values\n",
    "x = data.drop(['project_is_approved'], axis=1)\n",
    "xtrain, xtest, ytrain, ytest = train_test_split(x, y, test_size=0.33, stratify=y)"
   ]
  },
  {
   "cell_type": "code",
   "execution_count": 9,
   "metadata": {
    "colab": {},
    "colab_type": "code",
    "id": "i-PyprDNb3dI"
   },
   "outputs": [
    {
     "name": "stdout",
     "output_type": "stream",
     "text": [
      "(33500, 9)\n",
      "(16500, 9)\n",
      "----------------------------------------------------------------------------------------------------\n",
      "(33500,)\n",
      "(16500,)\n"
     ]
    }
   ],
   "source": [
    "\n",
    "    \n",
    "    \n",
    "print(xtrain.shape)\n",
    "print(xtest.shape)\n",
    "print('-'*100)\n",
    "print(ytrain.shape)\n",
    "print(ytest.shape)"
   ]
  },
  {
   "cell_type": "markdown",
   "metadata": {},
   "source": [
    "1)we have 2 text features \"essay\" and \"cleaned_project_title\". we encode/vectorise it using BOW and TFIDF"
   ]
  },
  {
   "cell_type": "markdown",
   "metadata": {
    "colab_type": "text",
    "id": "EnZwVNULb3dO"
   },
   "source": [
    "<h2>1.3 Make Data Model Ready: encoding essay, and project_title</h2>"
   ]
  },
  {
   "cell_type": "markdown",
   "metadata": {},
   "source": [
    "# 1)BOW vectorization"
   ]
  },
  {
   "cell_type": "code",
   "execution_count": 10,
   "metadata": {},
   "outputs": [],
   "source": [
    "essay_bow=xtrain['essay'].values\n"
   ]
  },
  {
   "cell_type": "code",
   "execution_count": 11,
   "metadata": {
    "colab": {},
    "colab_type": "code",
    "id": "-SczZKiab3dR"
   },
   "outputs": [
    {
     "name": "stdout",
     "output_type": "stream",
     "text": [
      "train_essay bow shape (33500, 5000) (33500,)\n",
      "test_essay bow shape (16500, 5000) (16500,)\n"
     ]
    }
   ],
   "source": [
    "vect=CountVectorizer(min_df=10,ngram_range=(1,4),max_features=5000)\n",
    "vect.fit(essay_bow)\n",
    "#now we have learnt the vocab of xtrain.lets try to transofrm test and cv data using xtrain vocab\n",
    "xtr_bow_essay=vect.transform(essay_bow)\n",
    "xtest_bow_essay=vect.transform(xtest['essay'].values)\n",
    "#xcv_bow_essay=vect.transform(xcv['essay'].values)\n",
    "essay_bow_features=vect.get_feature_names()\n",
    "\n",
    "print('train_essay bow shape',xtr_bow_essay.shape,ytrain.shape)\n",
    "print('test_essay bow shape',xtest_bow_essay.shape,ytest.shape)\n",
    "#print('cv_essay bow shape',xcv_bow_essay.shape,ycv.shape)"
   ]
  },
  {
   "cell_type": "code",
   "execution_count": 12,
   "metadata": {},
   "outputs": [
    {
     "name": "stdout",
     "output_type": "stream",
     "text": [
      "cv_essay bow feature names ['000', '10', '100', '100 free', '100 percent', '100 students', '100 students receive', '100 students receive free', '11', '12']\n"
     ]
    }
   ],
   "source": [
    "print('cv_essay bow feature names',essay_bow_features[:10])"
   ]
  },
  {
   "cell_type": "markdown",
   "metadata": {},
   "source": [
    "# BOW vectorization project_title"
   ]
  },
  {
   "cell_type": "code",
   "execution_count": 13,
   "metadata": {},
   "outputs": [],
   "source": [
    "prjtitle_bow=xtrain['cleaned_project_title'].values"
   ]
  },
  {
   "cell_type": "code",
   "execution_count": 14,
   "metadata": {},
   "outputs": [
    {
     "name": "stdout",
     "output_type": "stream",
     "text": [
      "train_prj title bow shape (33500, 2458) (33500,)\n",
      "test_prj title bow shape (16500, 2458) (16500,)\n",
      "['05', '10', '100', '101', '16', '1st', '1st grade', '1st graders', '2016', '2017']\n"
     ]
    }
   ],
   "source": [
    "vect=CountVectorizer(min_df=10,ngram_range=(1,4),max_features=5000)\n",
    "vect.fit(prjtitle_bow)\n",
    "#now we have learnt the vocab of xtrain.lets try to transform test and cv data using xtrain vocab\n",
    "xtr_bow_prjtitle=vect.transform(prjtitle_bow)\n",
    "xtest_bow_prjtitle=vect.transform(xtest['cleaned_project_title'].values)\n",
    "#xcv_bow_prjtitle=vect.transform(xcv['cleaned_project_title'].values)\n",
    "prjtitle_bow_features=vect.get_feature_names()\n",
    "\n",
    "print('train_prj title bow shape',xtr_bow_prjtitle.shape,ytrain.shape)\n",
    "print('test_prj title bow shape',xtest_bow_prjtitle.shape,ytest.shape)\n",
    "#print('cv_prj title bow shape',xcv_bow_prjtitle.shape,ycv.shape)\n",
    "print(prjtitle_bow_features[:10])"
   ]
  },
  {
   "cell_type": "code",
   "execution_count": null,
   "metadata": {},
   "outputs": [],
   "source": []
  },
  {
   "cell_type": "markdown",
   "metadata": {
    "colab_type": "text",
    "id": "bGy86kgHb3dX"
   },
   "source": [
    "<h2>1.4 Make Data Model Ready: encoding numerical, categorical features</h2>"
   ]
  },
  {
   "cell_type": "markdown",
   "metadata": {
    "colab": {},
    "colab_type": "code",
    "id": "EfXkofX1b3da"
   },
   "source": [
    "# 1)school_state (one hot encoding)"
   ]
  },
  {
   "cell_type": "code",
   "execution_count": 15,
   "metadata": {},
   "outputs": [
    {
     "name": "stdout",
     "output_type": "stream",
     "text": [
      "school_state xtrain shape (33500, 51) (33500,)\n",
      "school_state xtest shape (16500, 51) (16500,)\n"
     ]
    }
   ],
   "source": [
    "\n",
    "vect=CountVectorizer(binary=True)\n",
    "vect.fit(xtrain['school_state'].values)\n",
    "xtrain_ohe_school_state=vect.transform(xtrain['school_state'].values)\n",
    "#xcv_ohe_school_state=vect.transform(xcv['school_state'].values)\n",
    "xtest_ohe_school_state=vect.transform(xtest['school_state'].values)\n",
    "school_state_feature=vect.get_feature_names()\n",
    "\n",
    "print('school_state xtrain shape',xtrain_ohe_school_state.shape,ytrain.shape)\n",
    "print('school_state xtest shape',xtest_ohe_school_state.shape,ytest.shape)\n",
    "#print('school_state xcv shape',xcv_ohe_school_state.shape,ycv.shape)"
   ]
  },
  {
   "cell_type": "markdown",
   "metadata": {},
   "source": [
    "# 2)teacher_prefix one hot encoding"
   ]
  },
  {
   "cell_type": "code",
   "execution_count": 18,
   "metadata": {},
   "outputs": [
    {
     "name": "stdout",
     "output_type": "stream",
     "text": [
      "xtrain_ohe_teacher shape (33500, 5) (33500,)\n",
      "xtest_ohe_teacher shape (16500, 5) (16500,)\n"
     ]
    }
   ],
   "source": [
    "vect=CountVectorizer(binary=True)\n",
    "vect.fit(xtrain['teacher_prefix'].values)\n",
    "xtrain_ohe_teacher_prefix=vect.transform(xtrain['teacher_prefix'].values)\n",
    "xtest_ohe_teacher_prefix=vect.transform(xtest['teacher_prefix'].values)\n",
    "teacher_prefix_feature=vect.get_feature_names()\n",
    "#xcv_ohe_teacher_prefix=vect.transform(xcv['teacher_prefix'].values)\n",
    "print('xtrain_ohe_teacher shape',xtrain_ohe_teacher_prefix.shape,ytrain.shape)\n",
    "print('xtest_ohe_teacher shape',xtest_ohe_teacher_prefix.shape,ytest.shape)\n",
    "#print('xcv_ohe_teacher_prefix shape',xcv_ohe_teacher_prefix.shape,ycv.shape)\n"
   ]
  },
  {
   "cell_type": "markdown",
   "metadata": {},
   "source": [
    "# 3)project_grade_category ohe hot encoding"
   ]
  },
  {
   "cell_type": "code",
   "execution_count": 19,
   "metadata": {},
   "outputs": [
    {
     "name": "stdout",
     "output_type": "stream",
     "text": [
      "xtrain_ohe_project_grade_category shape (33500, 4) (33500,)\n",
      "xtest_ohe_project_grade_category shape (16500, 4) (16500,)\n"
     ]
    }
   ],
   "source": [
    "vect=CountVectorizer(binary=True)\n",
    "vect.fit(xtrain['project_grade_category'].values)\n",
    "xtrain_ohe_project_grade_category=vect.transform(xtrain['project_grade_category'].values)\n",
    "xtest_ohe_project_grade_category=vect.transform(xtest['project_grade_category'].values)\n",
    "project_grade_category_feature=vect.get_feature_names()\n",
    "#xcv_ohe_project_grade_category=vect.transform(xcv['project_grade_category'].values)\n",
    "print('xtrain_ohe_project_grade_category shape',xtrain_ohe_project_grade_category.shape,ytrain.shape)\n",
    "print('xtest_ohe_project_grade_category shape',xtest_ohe_project_grade_category.shape,ytest.shape)\n",
    "#print('xcv_ohe_teacher_project_grade_category shape',xcv_ohe_project_grade_category.shape,ycv.shape)\n",
    "\n"
   ]
  },
  {
   "cell_type": "markdown",
   "metadata": {},
   "source": [
    "# 4)clean_categories one hot encoding"
   ]
  },
  {
   "cell_type": "code",
   "execution_count": 20,
   "metadata": {},
   "outputs": [
    {
     "name": "stdout",
     "output_type": "stream",
     "text": [
      "xtrain_ohe_clean_categories shape (33500, 9) (33500,)\n",
      "xtest_ohe_clean_categories shape (16500, 9) (16500,)\n",
      "['appliedlearning', 'care_hunger', 'health_sports', 'history_civics', 'literacy_language', 'math_science', 'music_arts', 'specialneeds', 'warmth']\n"
     ]
    }
   ],
   "source": [
    "vect=CountVectorizer(binary=True)\n",
    "vect.fit(xtrain['clean_categories'].values)\n",
    "xtrain_ohe_clean_categories=vect.transform(xtrain['clean_categories'].values)\n",
    "xtest_ohe_clean_categories=vect.transform(xtest['clean_categories'].values)\n",
    "#xcv_ohe_clean_categories=vect.transform(xcv['clean_categories'].values)\n",
    "clean_categories_feature=vect.get_feature_names()\n",
    "print('xtrain_ohe_clean_categories shape',xtrain_ohe_clean_categories.shape,ytrain.shape)\n",
    "print('xtest_ohe_clean_categories shape',xtest_ohe_clean_categories.shape,ytest.shape)\n",
    "#print('xcv_ohe_teacher_clean_categories shape',xcv_ohe_clean_categories.shape,ycv.shape)\n",
    "print(vect.get_feature_names())\n",
    "\n"
   ]
  },
  {
   "cell_type": "markdown",
   "metadata": {},
   "source": [
    "# 5)clean_subcategories one hot encoding"
   ]
  },
  {
   "cell_type": "code",
   "execution_count": 21,
   "metadata": {},
   "outputs": [
    {
     "name": "stdout",
     "output_type": "stream",
     "text": [
      "xtrain_ohe_clean_subcategories shape (33500, 30) (33500,)\n",
      "xtest_ohe_clean_subcategories shape (16500, 30) (16500,)\n",
      "['appliedsciences', 'care_hunger', 'charactereducation', 'civics_government', 'college_careerprep', 'communityservice', 'earlydevelopment', 'economics', 'environmentalscience', 'esl', 'extracurricular', 'financialliteracy', 'foreignlanguages', 'gym_fitness', 'health_lifescience', 'health_wellness', 'history_geography', 'literacy', 'literature_writing', 'mathematics', 'music', 'nutritioneducation', 'other', 'parentinvolvement', 'performingarts', 'socialsciences', 'specialneeds', 'teamsports', 'visualarts', 'warmth']\n"
     ]
    }
   ],
   "source": [
    "vect=CountVectorizer(binary=True)\n",
    "vect.fit(xtrain['clean_subcategories'].values)\n",
    "xtrain_ohe_clean_subcategories=vect.transform(xtrain['clean_subcategories'].values)\n",
    "xtest_ohe_clean_subcategories=vect.transform(xtest['clean_subcategories'].values)\n",
    "#xcv_ohe_clean_subcategories=vect.transform(xcv['clean_subcategories'].values)\n",
    "clean_subcategories_feature=vect.get_feature_names()\n",
    "print('xtrain_ohe_clean_subcategories shape',xtrain_ohe_clean_subcategories.shape,ytrain.shape)\n",
    "print('xtest_ohe_clean_subcategories shape',xtest_ohe_clean_subcategories.shape,ytest.shape)\n",
    "#print('xcv_ohe_teacher_clean_subcategories shape',xcv_ohe_clean_subcategories.shape,ycv.shape)\n",
    "print(vect.get_feature_names())\n",
    "\n"
   ]
  },
  {
   "cell_type": "markdown",
   "metadata": {},
   "source": [
    "# Normalize numerical features \"price\" and \"previosuly submitted projects count\""
   ]
  },
  {
   "cell_type": "markdown",
   "metadata": {},
   "source": [
    "# 1)price"
   ]
  },
  {
   "cell_type": "code",
   "execution_count": 22,
   "metadata": {},
   "outputs": [
    {
     "name": "stdout",
     "output_type": "stream",
     "text": [
      "xtrain_norm_price shape (33500, 1) (33500,)\n",
      "xtest_norm_price shape (16500, 1) (16500,)\n"
     ]
    }
   ],
   "source": [
    "from sklearn.preprocessing import Normalizer\n",
    "norm=Normalizer()\n",
    "norm.fit(xtrain['price'].values.reshape(-1,1))\n",
    "xtrain_norm_price=norm.transform(xtrain['price'].values.reshape(-1,1))\n",
    "xtest_norm_price=norm.transform(xtest['price'].values.reshape(-1,1))\n",
    "#xcv_norm_price=norm.transform(xcv['price'].values.reshape(-1,1))\n",
    "print('xtrain_norm_price shape',xtrain_norm_price.shape,ytrain.shape)\n",
    "print('xtest_norm_price shape',xtest_norm_price.shape,ytest.shape)\n",
    "#print('xcv_norm_price shape',xcv_norm_price.shape,ycv.shape)"
   ]
  },
  {
   "cell_type": "markdown",
   "metadata": {},
   "source": [
    "# 2)teacher_number_of_previously_posted_projects"
   ]
  },
  {
   "cell_type": "code",
   "execution_count": 23,
   "metadata": {},
   "outputs": [
    {
     "name": "stdout",
     "output_type": "stream",
     "text": [
      "xtrain_norm_prjcount shape (33500, 1) (33500,)\n",
      "xtest_norm_prjcount shape (16500, 1) (16500,)\n"
     ]
    }
   ],
   "source": [
    "from sklearn.preprocessing import Normalizer\n",
    "norm=Normalizer()\n",
    "norm.fit(xtrain['teacher_number_of_previously_posted_projects'].values.reshape(-1,1))\n",
    "xtrain_norm_prjcount=norm.transform(xtrain['teacher_number_of_previously_posted_projects'].values.reshape(-1,1))\n",
    "xtest_norm_prjcount=norm.transform(xtest['teacher_number_of_previously_posted_projects'].values.reshape(-1,1))\n",
    "#xcv_norm_prjcount=norm.transform(xcv['teacher_number_of_previously_posted_projects'].values.reshape(-1,1))\n",
    "print('xtrain_norm_prjcount shape',xtrain_norm_prjcount.shape,ytrain.shape)\n",
    "print('xtest_norm_prjcount shape',xtest_norm_prjcount.shape,ytest.shape)\n",
    "#print('xcv_norm_prjcount shape',xcv_norm_prjcount.shape,ycv.shape)\n"
   ]
  },
  {
   "cell_type": "markdown",
   "metadata": {},
   "source": [
    "1) https://stackoverflow.com/a/19710648/4084039 : concatenate two matrices\n",
    "\n",
    "#lets combine all the features into one single stack.\n",
    "\n"
   ]
  },
  {
   "cell_type": "markdown",
   "metadata": {},
   "source": [
    "# SET1"
   ]
  },
  {
   "cell_type": "code",
   "execution_count": 24,
   "metadata": {},
   "outputs": [
    {
     "name": "stdout",
     "output_type": "stream",
     "text": [
      "Data Final matrix\n",
      "(33500, 7559) (33500,)\n",
      "(16500, 7559) (16500,)\n"
     ]
    }
   ],
   "source": [
    "from scipy.sparse import hstack\n",
    "xtrain_hstack_set1 = hstack((xtr_bow_essay,xtr_bow_prjtitle,xtrain_ohe_school_state, xtrain_ohe_teacher_prefix, xtrain_ohe_project_grade_category,xtrain_ohe_clean_categories,xtrain_ohe_clean_subcategories, xtrain_norm_price,xtrain_norm_prjcount)).tocsr()\n",
    "\n",
    "xtest_hstack_set1 = hstack((xtest_bow_essay,xtest_bow_prjtitle,xtest_ohe_school_state,xtest_ohe_teacher_prefix,xtest_ohe_project_grade_category,xtest_ohe_clean_categories,xtest_ohe_clean_subcategories,xtest_norm_price,xtest_norm_prjcount)).tocsr()\n",
    "\n",
    "#xcv_hstack_set1=hstack((xcv_bow_essay,xcv_bow_prjtitle,xcv_ohe_school_state,xcv_ohe_teacher_prefix,xcv_ohe_project_grade_category,xcv_ohe_clean_categories,xcv_ohe_clean_subcategories,xcv_norm_price,xcv_norm_prjcount)).tocsr()\n",
    "print(\"Data Final matrix\")\n",
    "print(xtrain_hstack_set1.shape, ytrain.shape)\n",
    "print(xtest_hstack_set1.shape, ytest.shape)\n",
    "#print(xcv_hstack_set1.shape, ycv.shape)\n",
    "\n",
    "\n"
   ]
  },
  {
   "cell_type": "markdown",
   "metadata": {},
   "source": [
    "# TFIDF vectorization"
   ]
  },
  {
   "cell_type": "markdown",
   "metadata": {},
   "source": [
    "# 1)essay"
   ]
  },
  {
   "cell_type": "code",
   "execution_count": 41,
   "metadata": {},
   "outputs": [],
   "source": [
    "from sklearn.feature_extraction.text import TfidfTransformer\n",
    "from sklearn.feature_extraction.text import TfidfVectorizer"
   ]
  },
  {
   "cell_type": "code",
   "execution_count": 42,
   "metadata": {},
   "outputs": [
    {
     "name": "stdout",
     "output_type": "stream",
     "text": [
      "train_essay bow shape (33500, 5000) (33500,)\n",
      "test_essay bow shape (16500, 5000) (16500,)\n"
     ]
    }
   ],
   "source": [
    "vect=TfidfVectorizer(min_df=10,ngram_range=(1,4),max_features=5000)\n",
    "vect.fit(xtrain['essay'].values)\n",
    "#now we have learnt the vocab of xtrain.lets try to transofrm test and cv data using xtrain vocab\n",
    "xtr_tfidf_essay=vect.transform(xtrain['essay'].values)\n",
    "xtest_tfidf_essay=vect.transform(xtest['essay'].values)\n",
    "#xcv_tfidf_essay=vect.transform(xcv['essay'].values)\n",
    "essay_tfidf_features=vect.get_feature_names()\n",
    "\n",
    "print('train_essay bow shape',xtr_tfidf_essay.shape,ytrain.shape)\n",
    "print('test_essay bow shape',xtest_tfidf_essay.shape,ytest.shape)\n",
    "#print('cv_essay bow shape',xcv_tfidf_essay.shape,ycv.shape)"
   ]
  },
  {
   "cell_type": "markdown",
   "metadata": {},
   "source": [
    "# 2)project_title"
   ]
  },
  {
   "cell_type": "code",
   "execution_count": 43,
   "metadata": {},
   "outputs": [
    {
     "name": "stdout",
     "output_type": "stream",
     "text": [
      "train_prjtitle bow shape (33500, 2458) (33500,)\n",
      "test_prjtitle bow shape (16500, 2458) (16500,)\n"
     ]
    }
   ],
   "source": [
    "vect=TfidfVectorizer(min_df=10,ngram_range=(1,4),max_features=5000)\n",
    "vect.fit(xtrain['cleaned_project_title'].values)\n",
    "#now we have learnt the vocab of xtrain.lets try to transofrm test and cv data using xtrain vocab\n",
    "xtr_tfidf_prjtitle=vect.transform(xtrain['cleaned_project_title'].values)\n",
    "xtest_tfidf_prjtitle=vect.transform(xtest['cleaned_project_title'].values)\n",
    "#xcv_tfidf_prjtitle=vect.transform(xcv['cleaned_project_title'].values)\n",
    "prjtitle_tfidf_features=vect.get_feature_names()\n",
    "\n",
    "print('train_prjtitle bow shape',xtr_tfidf_prjtitle.shape,ytrain.shape)\n",
    "print('test_prjtitle bow shape',xtest_tfidf_prjtitle.shape,ytest.shape)\n",
    "#print('cv_prjtitle bow shape',xcv_tfidf_prjtitle.shape,ycv.shape)"
   ]
  },
  {
   "cell_type": "markdown",
   "metadata": {},
   "source": [
    "# stack the tfidf features with the other one hot encoded features to get set2"
   ]
  },
  {
   "cell_type": "markdown",
   "metadata": {},
   "source": [
    "# SET2"
   ]
  },
  {
   "cell_type": "code",
   "execution_count": 44,
   "metadata": {},
   "outputs": [
    {
     "name": "stdout",
     "output_type": "stream",
     "text": [
      "Data Final matrix\n",
      "(33500, 7559) (33500,)\n",
      "(16500, 7559) (16500,)\n"
     ]
    }
   ],
   "source": [
    "from scipy.sparse import hstack\n",
    "xtrain_hstack_set2 = hstack((xtr_tfidf_essay,xtr_tfidf_prjtitle,xtrain_ohe_school_state, xtrain_ohe_teacher_prefix, xtrain_ohe_project_grade_category,xtrain_ohe_clean_categories,xtrain_ohe_clean_subcategories, xtrain_norm_price,xtrain_norm_prjcount)).tocsr()\n",
    "\n",
    "xtest_hstack_set2 = hstack((xtest_tfidf_essay,xtest_tfidf_prjtitle,xtest_ohe_school_state,xtest_ohe_teacher_prefix,xtest_ohe_project_grade_category,xtest_ohe_clean_categories,xtest_ohe_clean_subcategories,xtest_norm_price,xtest_norm_prjcount)).tocsr()\n",
    "\n",
    "#xcv_hstack_set2=hstack((xcv_tfidf_essay,xcv_tfidf_prjtitle,xcv_ohe_school_state,xcv_ohe_teacher_prefix,xcv_ohe_project_grade_category,xcv_ohe_clean_categories,xcv_ohe_clean_subcategories,xcv_norm_price,xcv_norm_prjcount)).tocsr()\n",
    "\n",
    "print(\"Data Final matrix\")\n",
    "print(xtrain_hstack_set2.shape, ytrain.shape)\n",
    "print(xtest_hstack_set2.shape, ytest.shape)\n",
    "#print(xcv_hstack_set2.shape, ycv.shape)\n"
   ]
  },
  {
   "cell_type": "code",
   "execution_count": null,
   "metadata": {},
   "outputs": [],
   "source": []
  },
  {
   "cell_type": "markdown",
   "metadata": {
    "colab_type": "text",
    "id": "yYHPYadYb3dh"
   },
   "source": [
    "<h2>1.5 Appling NB on different kind of featurization as mentioned in the instructions</h2>\n"
   ]
  },
  {
   "cell_type": "markdown",
   "metadata": {},
   "source": [
    "#https://scikit-learn.org/stable/modules/generated/sklearn.naive_bayes.MultinomialNB.html"
   ]
  },
  {
   "cell_type": "code",
   "execution_count": 45,
   "metadata": {
    "colab": {},
    "colab_type": "code",
    "id": "DNwqilFxb3di"
   },
   "outputs": [
    {
     "data": {
      "image/png": "[encoded data removed]",
      "text/plain": [
       "<Figure size 432x288 with 1 Axes>"
      ]
     },
     "metadata": {},
     "output_type": "display_data"
    },
    {
     "name": "stdout",
     "output_type": "stream",
     "text": [
      "this is not readable,hence convert alpha values to original values\n"
     ]
    },
    {
     "data": {
      "image/png": "[encoded data removed]",
      "text/plain": [
       "<Figure size 432x288 with 1 Axes>"
      ]
     },
     "metadata": {},
     "output_type": "display_data"
    },
    {
     "data": {
      "text/html": [
       "<div>\n",
       "<style scoped>\n",
       "    .dataframe tbody tr th:only-of-type {\n",
       "        vertical-align: middle;\n",
       "    }\n",
       "\n",
       "    .dataframe tbody tr th {\n",
       "        vertical-align: top;\n",
       "    }\n",
       "\n",
       "    .dataframe thead th {\n",
       "        text-align: right;\n",
       "    }\n",
       "</style>\n",
       "<table border=\"1\" class=\"dataframe\">\n",
       "  <thead>\n",
       "    <tr style=\"text-align: right;\">\n",
       "      <th></th>\n",
       "      <th>mean_fit_time</th>\n",
       "      <th>std_fit_time</th>\n",
       "      <th>mean_score_time</th>\n",
       "      <th>std_score_time</th>\n",
       "      <th>param_alpha</th>\n",
       "      <th>params</th>\n",
       "      <th>split0_test_score</th>\n",
       "      <th>split1_test_score</th>\n",
       "      <th>split2_test_score</th>\n",
       "      <th>mean_test_score</th>\n",
       "      <th>std_test_score</th>\n",
       "      <th>rank_test_score</th>\n",
       "      <th>split0_train_score</th>\n",
       "      <th>split1_train_score</th>\n",
       "      <th>split2_train_score</th>\n",
       "      <th>mean_train_score</th>\n",
       "      <th>std_train_score</th>\n",
       "    </tr>\n",
       "  </thead>\n",
       "  <tbody>\n",
       "    <tr>\n",
       "      <th>0</th>\n",
       "      <td>0.119213</td>\n",
       "      <td>0.008769</td>\n",
       "      <td>0.012992</td>\n",
       "      <td>0.000817</td>\n",
       "      <td>0.0001</td>\n",
       "      <td>{'alpha': 0.0001}</td>\n",
       "      <td>0.676723</td>\n",
       "      <td>0.663968</td>\n",
       "      <td>0.673174</td>\n",
       "      <td>0.671288</td>\n",
       "      <td>0.005375</td>\n",
       "      <td>6</td>\n",
       "      <td>0.794594</td>\n",
       "      <td>0.795212</td>\n",
       "      <td>0.793744</td>\n",
       "      <td>0.794517</td>\n",
       "      <td>0.000602</td>\n",
       "    </tr>\n",
       "    <tr>\n",
       "      <th>1</th>\n",
       "      <td>0.109141</td>\n",
       "      <td>0.008924</td>\n",
       "      <td>0.013988</td>\n",
       "      <td>0.001411</td>\n",
       "      <td>0.001</td>\n",
       "      <td>{'alpha': 0.001}</td>\n",
       "      <td>0.681026</td>\n",
       "      <td>0.669001</td>\n",
       "      <td>0.678577</td>\n",
       "      <td>0.676202</td>\n",
       "      <td>0.005189</td>\n",
       "      <td>5</td>\n",
       "      <td>0.791820</td>\n",
       "      <td>0.792066</td>\n",
       "      <td>0.790605</td>\n",
       "      <td>0.791497</td>\n",
       "      <td>0.000639</td>\n",
       "    </tr>\n",
       "    <tr>\n",
       "      <th>2</th>\n",
       "      <td>0.119262</td>\n",
       "      <td>0.012229</td>\n",
       "      <td>0.015657</td>\n",
       "      <td>0.002866</td>\n",
       "      <td>0.01</td>\n",
       "      <td>{'alpha': 0.01}</td>\n",
       "      <td>0.685131</td>\n",
       "      <td>0.673695</td>\n",
       "      <td>0.683677</td>\n",
       "      <td>0.680835</td>\n",
       "      <td>0.005083</td>\n",
       "      <td>4</td>\n",
       "      <td>0.787640</td>\n",
       "      <td>0.787544</td>\n",
       "      <td>0.785984</td>\n",
       "      <td>0.787056</td>\n",
       "      <td>0.000759</td>\n",
       "    </tr>\n",
       "    <tr>\n",
       "      <th>3</th>\n",
       "      <td>0.117268</td>\n",
       "      <td>0.005435</td>\n",
       "      <td>0.013658</td>\n",
       "      <td>0.000942</td>\n",
       "      <td>0.1</td>\n",
       "      <td>{'alpha': 0.1}</td>\n",
       "      <td>0.688404</td>\n",
       "      <td>0.676998</td>\n",
       "      <td>0.687420</td>\n",
       "      <td>0.684274</td>\n",
       "      <td>0.005161</td>\n",
       "      <td>2</td>\n",
       "      <td>0.781331</td>\n",
       "      <td>0.781103</td>\n",
       "      <td>0.779182</td>\n",
       "      <td>0.780538</td>\n",
       "      <td>0.000964</td>\n",
       "    </tr>\n",
       "    <tr>\n",
       "      <th>4</th>\n",
       "      <td>0.149496</td>\n",
       "      <td>0.008161</td>\n",
       "      <td>0.020655</td>\n",
       "      <td>0.004640</td>\n",
       "      <td>1</td>\n",
       "      <td>{'alpha': 1}</td>\n",
       "      <td>0.690440</td>\n",
       "      <td>0.677732</td>\n",
       "      <td>0.688794</td>\n",
       "      <td>0.685656</td>\n",
       "      <td>0.005643</td>\n",
       "      <td>1</td>\n",
       "      <td>0.770941</td>\n",
       "      <td>0.771155</td>\n",
       "      <td>0.768484</td>\n",
       "      <td>0.770194</td>\n",
       "      <td>0.001212</td>\n",
       "    </tr>\n",
       "  </tbody>\n",
       "</table>\n",
       "</div>"
      ],
      "text/plain": [
       "   mean_fit_time  std_fit_time  mean_score_time  std_score_time param_alpha  \\\n",
       "0       0.119213      0.008769         0.012992        0.000817      0.0001   \n",
       "1       0.109141      0.008924         0.013988        0.001411       0.001   \n",
       "2       0.119262      0.012229         0.015657        0.002866        0.01   \n",
       "3       0.117268      0.005435         0.013658        0.000942         0.1   \n",
       "4       0.149496      0.008161         0.020655        0.004640           1   \n",
       "\n",
       "              params  split0_test_score  split1_test_score  split2_test_score  \\\n",
       "0  {'alpha': 0.0001}           0.676723           0.663968           0.673174   \n",
       "1   {'alpha': 0.001}           0.681026           0.669001           0.678577   \n",
       "2    {'alpha': 0.01}           0.685131           0.673695           0.683677   \n",
       "3     {'alpha': 0.1}           0.688404           0.676998           0.687420   \n",
       "4       {'alpha': 1}           0.690440           0.677732           0.688794   \n",
       "\n",
       "   mean_test_score  std_test_score  rank_test_score  split0_train_score  \\\n",
       "0         0.671288        0.005375                6            0.794594   \n",
       "1         0.676202        0.005189                5            0.791820   \n",
       "2         0.680835        0.005083                4            0.787640   \n",
       "3         0.684274        0.005161                2            0.781331   \n",
       "4         0.685656        0.005643                1            0.770941   \n",
       "\n",
       "   split1_train_score  split2_train_score  mean_train_score  std_train_score  \n",
       "0            0.795212            0.793744          0.794517         0.000602  \n",
       "1            0.792066            0.790605          0.791497         0.000639  \n",
       "2            0.787544            0.785984          0.787056         0.000759  \n",
       "3            0.781103            0.779182          0.780538         0.000964  \n",
       "4            0.771155            0.768484          0.770194         0.001212  "
      ]
     },
     "execution_count": 45,
     "metadata": {},
     "output_type": "execute_result"
    }
   ],
   "source": [
    "import matplotlib.pyplot as plt\n",
    "from sklearn.naive_bayes import MultinomialNB\n",
    "from sklearn.model_selection import GridSearchCV\n",
    "from sklearn.metrics import roc_auc_score\n",
    "from sklearn import cross_validation\n",
    "import math\n",
    "import warnings\n",
    "warnings.filterwarnings(\"ignore\")\n",
    "\n",
    "\n",
    "train_auc=[]\n",
    "cv_auc=[]\n",
    "\n",
    "#idea\n",
    "\n",
    "#here write a for loop using logarithms to get powers of 10, also use randint starting from megative integers till postitive integers.\n",
    "\n",
    "clf=MultinomialNB()\n",
    "params={'alpha':[10**i for i in range(-4,4)]}\n",
    "RSearch=GridSearchCV(clf,params, cv=3, scoring='roc_auc', return_train_score=True ,n_jobs=-1)\n",
    "RSearch.fit(xtrain_hstack_set1,ytrain)\n",
    "\n",
    "#https://scikit-learn.org/stable/modules/generated/sklearn.model_selection.RandomizedSearchCV.html (cv_results_)\n",
    "\n",
    "result=pd.DataFrame.from_dict(RSearch.cv_results_)\n",
    "result=result.sort_values(['param_alpha'])\n",
    "train_auc=result['mean_train_score']\n",
    "train_auc_std=result['std_train_score']\n",
    "cv_auc=result['mean_test_score']\n",
    "cv_auc_std=result['std_test_score']\n",
    "alpha=result['param_alpha']\n",
    "\n",
    "plt.plot(alpha,train_auc,label='train AUC') #train auc scores\n",
    "plt.plot(alpha,cv_auc,label='cv AUC') #cv auc scores\n",
    "\n",
    "plt.scatter(alpha,train_auc,label='training auc points')\n",
    "plt.scatter(alpha,cv_auc,label='cv auc points')\n",
    "\n",
    "plt.legend()\n",
    "plt.xlabel('alpha values')\n",
    "plt.ylabel('AUC values')\n",
    "plt.title('AUC plot to find best alpha value')\n",
    "plt.grid()\n",
    "plt.show()\n",
    "print('this is not readable,hence convert alpha values to original values')\n",
    "#https://stackoverflow.com/questions/49209338/converting-log-values-back-to-number/50980215\n",
    "\n",
    "plt.plot([np.log10(alpha[i]) for i in range(len(alpha))],train_auc,label='train AUC') #train auc scores\n",
    "plt.plot([np.log10(alpha[i]) for i in range(len(alpha))],cv_auc,label='cv AUC') #cv auc scores\n",
    "\n",
    "plt.scatter([np.log10(alpha[i]) for i in range(len(alpha))],train_auc,label='training auc points')\n",
    "plt.scatter([np.log10(alpha[i]) for i in range(len(alpha))],cv_auc,label='cv auc points')\n",
    "\n",
    "plt.legend()\n",
    "plt.xlabel('alpha values')\n",
    "plt.ylabel('AUC values')\n",
    "plt.title('AUC plot to find best alpha value')\n",
    "plt.grid()\n",
    "plt.show()\n",
    "result.head()\n",
    "\n",
    "\n",
    "\n",
    "\n",
    "\n",
    "\n"
   ]
  },
  {
   "cell_type": "code",
   "execution_count": 46,
   "metadata": {},
   "outputs": [
    {
     "name": "stdout",
     "output_type": "stream",
     "text": [
      "the best alpha value is 1\n"
     ]
    }
   ],
   "source": [
    "best_alpha=RSearch.best_estimator_\n",
    "print(\"the best alpha value is\",best_alpha.alpha)\n"
   ]
  },
  {
   "cell_type": "markdown",
   "metadata": {},
   "source": [
    "# FOR SET2"
   ]
  },
  {
   "cell_type": "code",
   "execution_count": 47,
   "metadata": {},
   "outputs": [
    {
     "data": {
      "image/png": "[encoded data removed]",
      "text/plain": [
       "<Figure size 432x288 with 1 Axes>"
      ]
     },
     "metadata": {},
     "output_type": "display_data"
    },
    {
     "name": "stdout",
     "output_type": "stream",
     "text": [
      "this is not readable,hence convert alpha values to original values\n"
     ]
    },
    {
     "data": {
      "image/png": "[encoded data removed]",
      "text/plain": [
       "<Figure size 432x288 with 1 Axes>"
      ]
     },
     "metadata": {},
     "output_type": "display_data"
    },
    {
     "data": {
      "text/html": [
       "<div>\n",
       "<style scoped>\n",
       "    .dataframe tbody tr th:only-of-type {\n",
       "        vertical-align: middle;\n",
       "    }\n",
       "\n",
       "    .dataframe tbody tr th {\n",
       "        vertical-align: top;\n",
       "    }\n",
       "\n",
       "    .dataframe thead th {\n",
       "        text-align: right;\n",
       "    }\n",
       "</style>\n",
       "<table border=\"1\" class=\"dataframe\">\n",
       "  <thead>\n",
       "    <tr style=\"text-align: right;\">\n",
       "      <th></th>\n",
       "      <th>mean_fit_time</th>\n",
       "      <th>std_fit_time</th>\n",
       "      <th>mean_score_time</th>\n",
       "      <th>std_score_time</th>\n",
       "      <th>param_alpha</th>\n",
       "      <th>params</th>\n",
       "      <th>split0_test_score</th>\n",
       "      <th>split1_test_score</th>\n",
       "      <th>split2_test_score</th>\n",
       "      <th>mean_test_score</th>\n",
       "      <th>std_test_score</th>\n",
       "      <th>rank_test_score</th>\n",
       "      <th>split0_train_score</th>\n",
       "      <th>split1_train_score</th>\n",
       "      <th>split2_train_score</th>\n",
       "      <th>mean_train_score</th>\n",
       "      <th>std_train_score</th>\n",
       "    </tr>\n",
       "  </thead>\n",
       "  <tbody>\n",
       "    <tr>\n",
       "      <th>0</th>\n",
       "      <td>0.114598</td>\n",
       "      <td>0.005238</td>\n",
       "      <td>0.013990</td>\n",
       "      <td>0.000818</td>\n",
       "      <td>0.0001</td>\n",
       "      <td>{'alpha': 0.0001}</td>\n",
       "      <td>0.617438</td>\n",
       "      <td>0.601889</td>\n",
       "      <td>0.609137</td>\n",
       "      <td>0.609489</td>\n",
       "      <td>0.006353</td>\n",
       "      <td>5</td>\n",
       "      <td>0.817962</td>\n",
       "      <td>0.815230</td>\n",
       "      <td>0.814635</td>\n",
       "      <td>0.815942</td>\n",
       "      <td>0.001449</td>\n",
       "    </tr>\n",
       "    <tr>\n",
       "      <th>1</th>\n",
       "      <td>0.115598</td>\n",
       "      <td>0.008953</td>\n",
       "      <td>0.013985</td>\n",
       "      <td>0.001633</td>\n",
       "      <td>0.001</td>\n",
       "      <td>{'alpha': 0.001}</td>\n",
       "      <td>0.617912</td>\n",
       "      <td>0.602684</td>\n",
       "      <td>0.610087</td>\n",
       "      <td>0.610228</td>\n",
       "      <td>0.006218</td>\n",
       "      <td>4</td>\n",
       "      <td>0.817938</td>\n",
       "      <td>0.815169</td>\n",
       "      <td>0.814563</td>\n",
       "      <td>0.815890</td>\n",
       "      <td>0.001469</td>\n",
       "    </tr>\n",
       "    <tr>\n",
       "      <th>2</th>\n",
       "      <td>0.119254</td>\n",
       "      <td>0.010782</td>\n",
       "      <td>0.015658</td>\n",
       "      <td>0.000471</td>\n",
       "      <td>0.01</td>\n",
       "      <td>{'alpha': 0.01}</td>\n",
       "      <td>0.619974</td>\n",
       "      <td>0.606083</td>\n",
       "      <td>0.612683</td>\n",
       "      <td>0.612914</td>\n",
       "      <td>0.005673</td>\n",
       "      <td>3</td>\n",
       "      <td>0.817613</td>\n",
       "      <td>0.814632</td>\n",
       "      <td>0.814025</td>\n",
       "      <td>0.815424</td>\n",
       "      <td>0.001568</td>\n",
       "    </tr>\n",
       "    <tr>\n",
       "      <th>3</th>\n",
       "      <td>0.118930</td>\n",
       "      <td>0.005095</td>\n",
       "      <td>0.012992</td>\n",
       "      <td>0.001414</td>\n",
       "      <td>0.1</td>\n",
       "      <td>{'alpha': 0.1}</td>\n",
       "      <td>0.627806</td>\n",
       "      <td>0.617560</td>\n",
       "      <td>0.622885</td>\n",
       "      <td>0.622751</td>\n",
       "      <td>0.004184</td>\n",
       "      <td>2</td>\n",
       "      <td>0.813899</td>\n",
       "      <td>0.809990</td>\n",
       "      <td>0.809435</td>\n",
       "      <td>0.811108</td>\n",
       "      <td>0.001986</td>\n",
       "    </tr>\n",
       "    <tr>\n",
       "      <th>4</th>\n",
       "      <td>0.112601</td>\n",
       "      <td>0.006940</td>\n",
       "      <td>0.016324</td>\n",
       "      <td>0.001246</td>\n",
       "      <td>1</td>\n",
       "      <td>{'alpha': 1}</td>\n",
       "      <td>0.634912</td>\n",
       "      <td>0.621974</td>\n",
       "      <td>0.630206</td>\n",
       "      <td>0.629031</td>\n",
       "      <td>0.005347</td>\n",
       "      <td>1</td>\n",
       "      <td>0.776077</td>\n",
       "      <td>0.772719</td>\n",
       "      <td>0.770165</td>\n",
       "      <td>0.772987</td>\n",
       "      <td>0.002421</td>\n",
       "    </tr>\n",
       "  </tbody>\n",
       "</table>\n",
       "</div>"
      ],
      "text/plain": [
       "   mean_fit_time  std_fit_time  mean_score_time  std_score_time param_alpha  \\\n",
       "0       0.114598      0.005238         0.013990        0.000818      0.0001   \n",
       "1       0.115598      0.008953         0.013985        0.001633       0.001   \n",
       "2       0.119254      0.010782         0.015658        0.000471        0.01   \n",
       "3       0.118930      0.005095         0.012992        0.001414         0.1   \n",
       "4       0.112601      0.006940         0.016324        0.001246           1   \n",
       "\n",
       "              params  split0_test_score  split1_test_score  split2_test_score  \\\n",
       "0  {'alpha': 0.0001}           0.617438           0.601889           0.609137   \n",
       "1   {'alpha': 0.001}           0.617912           0.602684           0.610087   \n",
       "2    {'alpha': 0.01}           0.619974           0.606083           0.612683   \n",
       "3     {'alpha': 0.1}           0.627806           0.617560           0.622885   \n",
       "4       {'alpha': 1}           0.634912           0.621974           0.630206   \n",
       "\n",
       "   mean_test_score  std_test_score  rank_test_score  split0_train_score  \\\n",
       "0         0.609489        0.006353                5            0.817962   \n",
       "1         0.610228        0.006218                4            0.817938   \n",
       "2         0.612914        0.005673                3            0.817613   \n",
       "3         0.622751        0.004184                2            0.813899   \n",
       "4         0.629031        0.005347                1            0.776077   \n",
       "\n",
       "   split1_train_score  split2_train_score  mean_train_score  std_train_score  \n",
       "0            0.815230            0.814635          0.815942         0.001449  \n",
       "1            0.815169            0.814563          0.815890         0.001469  \n",
       "2            0.814632            0.814025          0.815424         0.001568  \n",
       "3            0.809990            0.809435          0.811108         0.001986  \n",
       "4            0.772719            0.770165          0.772987         0.002421  "
      ]
     },
     "execution_count": 47,
     "metadata": {},
     "output_type": "execute_result"
    }
   ],
   "source": [
    "import matplotlib.pyplot as plt\n",
    "from sklearn.naive_bayes import MultinomialNB\n",
    "from sklearn.model_selection import GridSearchCV\n",
    "from sklearn.metrics import roc_auc_score\n",
    "from sklearn import cross_validation\n",
    "\n",
    "\n",
    "train_auc=[]\n",
    "cv_auc=[]\n",
    "\n",
    "#idea\n",
    "\n",
    "#here write a for loop using logarithms to get powers of 10, also use randint starting from megative integers till postitive integers.\n",
    "\n",
    "clf=MultinomialNB()\n",
    "params={'alpha':[10**i for i in range(-4,4)]}\n",
    "RSearch1=GridSearchCV(clf,params, cv=3, scoring='roc_auc', return_train_score=True ,n_jobs=-1)\n",
    "RSearch1.fit(xtrain_hstack_set2,ytrain)\n",
    "\n",
    "#https://scikit-learn.org/stable/modules/generated/sklearn.model_selection.RandomizedSearchCV.html (cv_results_)\n",
    "\n",
    "result=pd.DataFrame.from_dict(RSearch1.cv_results_)\n",
    "result=result.sort_values(['param_alpha'])\n",
    "train_auc=result['mean_train_score']\n",
    "train_auc_std=result['std_train_score']\n",
    "cv_auc=result['mean_test_score']\n",
    "cv_auc_std=result['std_test_score']\n",
    "alpha=result['param_alpha']\n",
    "\n",
    "plt.plot(alpha,train_auc,label='train AUC') #train auc scores\n",
    "plt.plot(alpha,cv_auc,label='cv AUC') #cv auc scores\n",
    "\n",
    "plt.scatter(alpha,train_auc,label='training auc points')\n",
    "plt.scatter(alpha,cv_auc,label='cv auc points')\n",
    "\n",
    "plt.legend()\n",
    "plt.xlabel('alpha values')\n",
    "plt.ylabel('AUC values')\n",
    "plt.title('AUC plot to find best alpha value')\n",
    "plt.grid()\n",
    "plt.show()\n",
    "print('this is not readable,hence convert alpha values to original values')\n",
    "\n",
    "plt.plot([np.log10(alpha[i]) for i in range(len(alpha))],train_auc,label='train AUC') #train auc scores\n",
    "plt.plot([np.log10(alpha[i]) for i in range(len(alpha))],cv_auc,label='cv AUC') #cv auc scores\n",
    "\n",
    "plt.scatter([np.log10(alpha[i]) for i in range(len(alpha))],train_auc,label='training auc points')\n",
    "plt.scatter([np.log10(alpha[i]) for i in range(len(alpha))],cv_auc,label='cv auc points')\n",
    "\n",
    "plt.legend()\n",
    "plt.xlabel('alpha values')\n",
    "plt.ylabel('AUC values')\n",
    "plt.title('AUC plot to find best alpha value')\n",
    "plt.grid()\n",
    "plt.show()\n",
    "result.head()\n"
   ]
  },
  {
   "cell_type": "code",
   "execution_count": 49,
   "metadata": {},
   "outputs": [
    {
     "name": "stdout",
     "output_type": "stream",
     "text": [
      "the best alpha value is 1\n"
     ]
    }
   ],
   "source": [
    "best_alpha1=RSearch1.best_estimator_\n",
    "print(\"the best alpha value is\",best_alpha1.alpha)"
   ]
  },
  {
   "cell_type": "markdown",
   "metadata": {},
   "source": [
    "# NOW PREDICT ON THE TEST DATA (SET1)(BOW)"
   ]
  },
  {
   "cell_type": "code",
   "execution_count": 50,
   "metadata": {},
   "outputs": [
    {
     "data": {
      "image/png": "[encoded data removed]",
      "text/plain": [
       "<Figure size 432x288 with 1 Axes>"
      ]
     },
     "metadata": {},
     "output_type": "display_data"
    }
   ],
   "source": [
    "from sklearn.metrics import roc_curve, auc\n",
    "def batch_predict(clf, data):\n",
    "    # roc_auc_score(y_true, y_score) the 2nd parameter should be probability estimates of the positive class\n",
    "    # not the predicted outputs\n",
    "\n",
    "    y_data_pred = []\n",
    "    tr_loop = data.shape[0] - data.shape[0]%1000\n",
    "    # consider you X_tr shape is 49041, then your tr_loop will be 49041 - 49041%1000 = 49000\n",
    "    # in this for loop we will iterate unti the last 1000 multiplier\n",
    "    for i in range(0, tr_loop, 1000):\n",
    "        y_data_pred.extend(clf.predict_proba(data[i:i+1000])[:,1])\n",
    "    # we will be predicting for the last data points\n",
    "    if data.shape[0]%1000 !=0:\n",
    "        y_data_pred.extend(clf.predict_proba(data[tr_loop:])[:,1])\n",
    "    \n",
    "    return y_data_pred\n",
    "\n",
    "\n",
    "clf1=MultinomialNB(alpha=best_alpha.alpha)\n",
    "clf1.fit(xtrain_hstack_set1,ytrain)\n",
    "\n",
    "y_train_pred=batch_predict(clf1,xtrain_hstack_set1)\n",
    "y_test_pred=batch_predict(clf1,xtest_hstack_set1)\n",
    "\n",
    "train_fpr,train_tpr,tr_thresholds=roc_curve(ytrain,y_train_pred)\n",
    "test_fpr,test_tpr,te_thresholds=roc_curve(ytest,y_test_pred)\n",
    "auc1=auc(test_fpr, test_tpr)\n",
    "plt.plot(train_fpr,train_tpr,label='Train AUC='+str(auc(train_fpr,train_tpr)))\n",
    "plt.plot(test_fpr,test_tpr,label='test AUC ='+str(auc(test_fpr,test_tpr)))\n",
    "plt.legend()\n",
    "plt.xlabel(\"FPR\")\n",
    "plt.ylabel('TPR')\n",
    "plt.title('AUC plots BOW')\n",
    "plt.grid()\n",
    "plt.show()"
   ]
  },
  {
   "cell_type": "markdown",
   "metadata": {},
   "source": [
    "# NOW PREDICT ON THE TEST DATA (SET2)(TFIDF)"
   ]
  },
  {
   "cell_type": "code",
   "execution_count": 51,
   "metadata": {},
   "outputs": [
    {
     "data": {
      "image/png": "[encoded data removed]",
      "text/plain": [
       "<Figure size 432x288 with 1 Axes>"
      ]
     },
     "metadata": {},
     "output_type": "display_data"
    }
   ],
   "source": [
    "from sklearn.metrics import roc_curve, auc\n",
    "def batch_predict(clf, data):\n",
    "    # roc_auc_score(y_true, y_score) the 2nd parameter should be probability estimates of the positive class\n",
    "    # not the predicted outputs\n",
    "\n",
    "    y_data_pred = []\n",
    "    tr_loop = data.shape[0] - data.shape[0]%1000\n",
    "    # consider you X_tr shape is 49041, then your tr_loop will be 49041 - 49041%1000 = 49000\n",
    "    # in this for loop we will iterate unti the last 1000 multiplier\n",
    "    for i in range(0, tr_loop, 1000):\n",
    "        y_data_pred.extend(clf.predict_proba(data[i:i+1000])[:,1])\n",
    "    # we will be predicting for the last data points\n",
    "    if data.shape[0]%1000 !=0:\n",
    "        y_data_pred.extend(clf.predict_proba(data[tr_loop:])[:,1])\n",
    "    \n",
    "    return y_data_pred\n",
    "\n",
    "\n",
    "clf=MultinomialNB(alpha=best_alpha1.alpha)\n",
    "clf.fit(xtrain_hstack_set2,ytrain)\n",
    "\n",
    "y_train_pred=batch_predict(clf,xtrain_hstack_set2)\n",
    "y_test_pred=batch_predict(clf,xtest_hstack_set2)\n",
    "\n",
    "train_fpr,train_tpr,tr_thresholds=roc_curve(ytrain,y_train_pred)\n",
    "test_fpr1,test_tpr1,te_thresholds=roc_curve(ytest,y_test_pred)\n",
    "auc2=auc(test_fpr1,test_tpr1)\n",
    "plt.plot(train_fpr,train_tpr,label='Train AUC='+str(auc(train_fpr,train_tpr)))\n",
    "plt.plot(test_fpr1,test_tpr1,label='test AUC ='+str(auc(test_fpr1,test_tpr1)))\n",
    "plt.legend()\n",
    "plt.xlabel(\"FPR\")\n",
    "plt.ylabel('TPR')\n",
    "plt.title('AUC plots TFIDF')\n",
    "plt.grid()\n",
    "plt.show()"
   ]
  },
  {
   "cell_type": "markdown",
   "metadata": {},
   "source": [
    "# TOP 20 FEATURES"
   ]
  },
  {
   "cell_type": "code",
   "execution_count": 52,
   "metadata": {},
   "outputs": [
    {
     "name": "stdout",
     "output_type": "stream",
     "text": [
      "7559\n",
      " top 20 features\n",
      "----------------------------------------------------------------------------------------------------\n",
      "['asked students' 'impairments' 'help provide' 'disorder'\n",
      " 'important students' 'consideration' 'expressed' 'economically' 'anyone'\n",
      " 'learning experiences' 'connected' 'apart' 'help increase' 'endless'\n",
      " 'learning environment' 'learning disabilities' 'classroom full'\n",
      " 'energetic' 'experiences my' 'diverse backgrounds']\n",
      "----------------------------------------------------------------------------------------------------\n",
      "top 20 feature indices\n",
      "[ 330 2000 1889 1116 2007  877 1458 1223  278 2320  872  282 1881 1288\n",
      " 2317 2314  696 1291 1439 1130]\n"
     ]
    }
   ],
   "source": [
    "import numpy as np\n",
    "feature_list=[]\n",
    "#names=[]\n",
    "#feature_list=list(feature_list)\n",
    "feature_list.extend(essay_bow_features)\n",
    "feature_list.extend(prjtitle_bow_features)\n",
    "feature_list.extend(school_state_feature)\n",
    "feature_list.extend(teacher_prefix_feature)\n",
    "feature_list.extend(project_grade_category_feature)\n",
    "feature_list.extend(clean_categories_feature)\n",
    "feature_list.extend(clean_subcategories_feature)\n",
    "feature_list.extend(['price'])\n",
    "feature_list.extend(['teacher_number_of_previously_posted_projects'])\n",
    "\n",
    "print(len(feature_list))\n",
    "\n",
    "#print(feature_list)\n",
    "\n",
    "top_20_index=np.argsort(((clf1.feature_log_prob_)[0])[::-1])[:20]\n",
    "names=np.take(feature_list,top_20_index)\n",
    "print(' top 20 features')\n",
    "print('-'*100)\n",
    "print(names)\n",
    "print('-'*100)\n",
    "print('top 20 feature indices'),\n",
    "print(top_20_index)\n",
    "#for i in top_20_index:\n",
    "    #print(feature_list[i])\n",
    "\n",
    "#feature_list[7]\n"
   ]
  },
  {
   "cell_type": "markdown",
   "metadata": {},
   "source": [
    "# confusion matrix"
   ]
  },
  {
   "cell_type": "code",
   "execution_count": 53,
   "metadata": {},
   "outputs": [
    {
     "name": "stdout",
     "output_type": "stream",
     "text": [
      "====================================================================================================\n",
      "the maximum value of tpr*(1-fpr) 0.47448871446101554 for threshold 0.851\n",
      "Train confusion matrix\n",
      "[[ 3705  1660]\n",
      " [ 8804 19331]]\n",
      "Test confusion matrix\n",
      "[[1411 1231]\n",
      " [4585 9273]]\n"
     ]
    }
   ],
   "source": [
    "def find_best_threshold(threshould, fpr, tpr):\n",
    "    t = threshould[np.argmax(tpr*(1-fpr))]\n",
    "    # (tpr*(1-fpr)) will be maximum if your fpr is very low and tpr is very high\n",
    "    print(\"the maximum value of tpr*(1-fpr)\", max(tpr*(1-fpr)), \"for threshold\", np.round(t,3))\n",
    "    return t\n",
    "\n",
    "def predict_with_best_t(proba, threshould):\n",
    "    predictions = []\n",
    "    for i in proba:\n",
    "        if i>=threshould:\n",
    "            predictions.append(1)\n",
    "        else:\n",
    "            predictions.append(0)\n",
    "    return predictions\n",
    "\n",
    "print(\"=\"*100)\n",
    "from sklearn.metrics import confusion_matrix\n",
    "best_t = find_best_threshold(tr_thresholds, train_fpr, train_tpr)\n",
    "print(\"Train confusion matrix\")\n",
    "print(confusion_matrix(ytrain, predict_with_best_t(y_train_pred, best_t)))\n",
    "print(\"Test confusion matrix\")\n",
    "print(confusion_matrix(ytest, predict_with_best_t(y_test_pred, best_t)))"
   ]
  },
  {
   "cell_type": "markdown",
   "metadata": {
    "colab_type": "text",
    "id": "lS9hIHdib3dp"
   },
   "source": [
    "<h1>3. Summary</h1>\n",
    "\n",
    "<br> as mentioned in the step 5 of instructions"
   ]
  },
  {
   "cell_type": "code",
   "execution_count": 54,
   "metadata": {},
   "outputs": [
    {
     "name": "stdout",
     "output_type": "stream",
     "text": [
      "+------------+-------------+-----------------+--------------------+\n",
      "| Vectorizer |    Model    | Hyper-Parameter |        AUC         |\n",
      "+------------+-------------+-----------------+--------------------+\n",
      "|    BOW     | Naive Bayes |        1        | 0.6877136614055245 |\n",
      "|   TFIDF    | Naive Bayes |        1        | 0.640941444688961  |\n",
      "+------------+-------------+-----------------+--------------------+\n"
     ]
    }
   ],
   "source": [
    "# http://zetcode.com/python/prettytable/ \n",
    "#https://scikit-learn.org/stable/modules/generated/sklearn.metrics.auc.html\n",
    "from prettytable import PrettyTable\n",
    "pt=PrettyTable() \n",
    "pt.field_names = [\"Vectorizer\", \"Model\", \"Hyper-Parameter\", \"AUC\"] \n",
    "pt.add_row([\" BOW \", \"Naive Bayes\", best_alpha.alpha,auc1])\n",
    "pt.add_row([\" TFIDF \", \"Naive Bayes\", best_alpha1.alpha, auc2]) \n",
    "print(pt)"
   ]
  },
  {
   "cell_type": "code",
   "execution_count": null,
   "metadata": {},
   "outputs": [],
   "source": []
  }
 ],
 "metadata": {
  "colab": {
   "collapsed_sections": [],
   "name": "6_Assignment_NB_Instructions.ipynb",
   "provenance": [],
   "version": "0.3.2"
  },
  "kernelspec": {
   "display_name": "Python 3",
   "language": "python",
   "name": "python3"
  },
  "language_info": {
   "codemirror_mode": {
    "name": "ipython",
    "version": 3
   },
   "file_extension": ".py",
   "mimetype": "text/x-python",
   "name": "python",
   "nbconvert_exporter": "python",
   "pygments_lexer": "ipython3",
   "version": "3.6.5"
  }
 },
 "nbformat": 4,
 "nbformat_minor": 1
}
