{
 "cells": [
  {
   "cell_type": "markdown",
   "metadata": {},
   "source": [
    "# import the required libraries "
   ]
  },
  {
   "cell_type": "code",
   "execution_count": 1,
   "metadata": {},
   "outputs": [],
   "source": [
    "import numpy as np\n",
    "import pandas as pd"
   ]
  },
  {
   "cell_type": "markdown",
   "metadata": {},
   "source": [
    "# read the dataset and get the stats"
   ]
  },
  {
   "cell_type": "code",
   "execution_count": 2,
   "metadata": {},
   "outputs": [
    {
     "data": {
      "text/html": [
       "<div>\n",
       "<style scoped>\n",
       "    .dataframe tbody tr th:only-of-type {\n",
       "        vertical-align: middle;\n",
       "    }\n",
       "\n",
       "    .dataframe tbody tr th {\n",
       "        vertical-align: top;\n",
       "    }\n",
       "\n",
       "    .dataframe thead th {\n",
       "        text-align: right;\n",
       "    }\n",
       "</style>\n",
       "<table border=\"1\" class=\"dataframe\">\n",
       "  <thead>\n",
       "    <tr style=\"text-align: right;\">\n",
       "      <th></th>\n",
       "      <th>y</th>\n",
       "      <th>pred</th>\n",
       "    </tr>\n",
       "  </thead>\n",
       "  <tbody>\n",
       "    <tr>\n",
       "      <th>count</th>\n",
       "      <td>157200.000000</td>\n",
       "      <td>157200.000000</td>\n",
       "    </tr>\n",
       "    <tr>\n",
       "      <th>mean</th>\n",
       "      <td>66.562087</td>\n",
       "      <td>66.483715</td>\n",
       "    </tr>\n",
       "    <tr>\n",
       "      <th>std</th>\n",
       "      <td>63.714792</td>\n",
       "      <td>62.340840</td>\n",
       "    </tr>\n",
       "    <tr>\n",
       "      <th>min</th>\n",
       "      <td>0.000000</td>\n",
       "      <td>-6.000000</td>\n",
       "    </tr>\n",
       "    <tr>\n",
       "      <th>25%</th>\n",
       "      <td>11.000000</td>\n",
       "      <td>12.000000</td>\n",
       "    </tr>\n",
       "    <tr>\n",
       "      <th>50%</th>\n",
       "      <td>52.000000</td>\n",
       "      <td>52.000000</td>\n",
       "    </tr>\n",
       "    <tr>\n",
       "      <th>75%</th>\n",
       "      <td>104.000000</td>\n",
       "      <td>103.000000</td>\n",
       "    </tr>\n",
       "    <tr>\n",
       "      <th>max</th>\n",
       "      <td>440.000000</td>\n",
       "      <td>421.000000</td>\n",
       "    </tr>\n",
       "  </tbody>\n",
       "</table>\n",
       "</div>"
      ],
      "text/plain": [
       "                   y           pred\n",
       "count  157200.000000  157200.000000\n",
       "mean       66.562087      66.483715\n",
       "std        63.714792      62.340840\n",
       "min         0.000000      -6.000000\n",
       "25%        11.000000      12.000000\n",
       "50%        52.000000      52.000000\n",
       "75%       104.000000     103.000000\n",
       "max       440.000000     421.000000"
      ]
     },
     "execution_count": 2,
     "metadata": {},
     "output_type": "execute_result"
    }
   ],
   "source": [
    "d_csv=pd.read_csv('5_d.csv')\n",
    "d_csv.head(10)\n",
    "d_csv.describe()"
   ]
  },
  {
   "cell_type": "markdown",
   "metadata": {},
   "source": [
    "# 1)compute the mean squared error for each point"
   ]
  },
  {
   "cell_type": "code",
   "execution_count": 3,
   "metadata": {},
   "outputs": [
    {
     "name": "stderr",
     "output_type": "stream",
     "text": [
      "100%|████████████████████████████████████████████████████████████████████████| 157200/157200 [00:48<00:00, 3233.35it/s]\n"
     ]
    },
    {
     "name": "stdout",
     "output_type": "stream",
     "text": [
      "MSE : 177.16569974554707\n"
     ]
    }
   ],
   "source": [
    "from tqdm import tqdm\n",
    "for i in tqdm(range(0,len(d_csv))):\n",
    "    \n",
    "    d_csv['pred'].loc[i]=((d_csv.y[i])-(d_csv.pred[i]))*((d_csv.y[i])-(d_csv.pred[i]))\n",
    "    #d_csv['pred'].loc[i]**2\n",
    "avg=(d_csv['pred'].sum())/len(d_csv)\n",
    "print('MSE :',avg)"
   ]
  },
  {
   "cell_type": "code",
   "execution_count": 4,
   "metadata": {},
   "outputs": [
    {
     "data": {
      "text/html": [
       "<div>\n",
       "<style scoped>\n",
       "    .dataframe tbody tr th:only-of-type {\n",
       "        vertical-align: middle;\n",
       "    }\n",
       "\n",
       "    .dataframe tbody tr th {\n",
       "        vertical-align: top;\n",
       "    }\n",
       "\n",
       "    .dataframe thead th {\n",
       "        text-align: right;\n",
       "    }\n",
       "</style>\n",
       "<table border=\"1\" class=\"dataframe\">\n",
       "  <thead>\n",
       "    <tr style=\"text-align: right;\">\n",
       "      <th></th>\n",
       "      <th>y</th>\n",
       "      <th>pred</th>\n",
       "    </tr>\n",
       "  </thead>\n",
       "  <tbody>\n",
       "    <tr>\n",
       "      <th>0</th>\n",
       "      <td>101.0</td>\n",
       "      <td>1.0</td>\n",
       "    </tr>\n",
       "    <tr>\n",
       "      <th>1</th>\n",
       "      <td>120.0</td>\n",
       "      <td>400.0</td>\n",
       "    </tr>\n",
       "    <tr>\n",
       "      <th>2</th>\n",
       "      <td>131.0</td>\n",
       "      <td>324.0</td>\n",
       "    </tr>\n",
       "    <tr>\n",
       "      <th>3</th>\n",
       "      <td>164.0</td>\n",
       "      <td>1521.0</td>\n",
       "    </tr>\n",
       "    <tr>\n",
       "      <th>4</th>\n",
       "      <td>154.0</td>\n",
       "      <td>4.0</td>\n",
       "    </tr>\n",
       "    <tr>\n",
       "      <th>5</th>\n",
       "      <td>133.0</td>\n",
       "      <td>400.0</td>\n",
       "    </tr>\n",
       "    <tr>\n",
       "      <th>6</th>\n",
       "      <td>148.0</td>\n",
       "      <td>81.0</td>\n",
       "    </tr>\n",
       "    <tr>\n",
       "      <th>7</th>\n",
       "      <td>172.0</td>\n",
       "      <td>729.0</td>\n",
       "    </tr>\n",
       "    <tr>\n",
       "      <th>8</th>\n",
       "      <td>153.0</td>\n",
       "      <td>81.0</td>\n",
       "    </tr>\n",
       "    <tr>\n",
       "      <th>9</th>\n",
       "      <td>162.0</td>\n",
       "      <td>64.0</td>\n",
       "    </tr>\n",
       "  </tbody>\n",
       "</table>\n",
       "</div>"
      ],
      "text/plain": [
       "       y    pred\n",
       "0  101.0     1.0\n",
       "1  120.0   400.0\n",
       "2  131.0   324.0\n",
       "3  164.0  1521.0\n",
       "4  154.0     4.0\n",
       "5  133.0   400.0\n",
       "6  148.0    81.0\n",
       "7  172.0   729.0\n",
       "8  153.0    81.0\n",
       "9  162.0    64.0"
      ]
     },
     "execution_count": 4,
     "metadata": {},
     "output_type": "execute_result"
    }
   ],
   "source": [
    "d_csv.head(10)"
   ]
  },
  {
   "cell_type": "markdown",
   "metadata": {},
   "source": [
    "# 2)compute mean absolute percentage error"
   ]
  },
  {
   "cell_type": "code",
   "execution_count": 6,
   "metadata": {},
   "outputs": [
    {
     "name": "stdout",
     "output_type": "stream",
     "text": [
      "MAPE : 12.911896142421892\n"
     ]
    }
   ],
   "source": [
    "d_csv=pd.read_csv('5_d.csv')\n",
    "d_csv['pred']=abs(d_csv['pred'])\n",
    "d_csv.describe()\n",
    "for i in range(0,len(d_csv)):\n",
    "    d_csv['pred'].loc[i]=abs((d_csv.y[i])-(d_csv.pred[i]))\n",
    "d_csv.head(10)  \n",
    "#modified_MAPE=mod(sum of errors)/sum of actual y's\n",
    "errors=d_csv['pred'].sum()\n",
    "classlabels=d_csv['y'].sum()\n",
    "\n",
    "MAPE=(errors/classlabels)*100\n",
    "print('MAPE :',MAPE)\n",
    "   "
   ]
  },
  {
   "cell_type": "markdown",
   "metadata": {},
   "source": [
    "# 3)compute r-squared error"
   ]
  },
  {
   "cell_type": "code",
   "execution_count": 10,
   "metadata": {},
   "outputs": [
    {
     "name": "stderr",
     "output_type": "stream",
     "text": [
      "100%|███████████████████████████████████████████████████████████████████████| 157200/157200 [00:10<00:00, 14874.75it/s]\n",
      "100%|███████████████████████████████████████████████████████████████████████| 157200/157200 [00:09<00:00, 16545.95it/s]\n"
     ]
    },
    {
     "name": "stdout",
     "output_type": "stream",
     "text": [
      "sstotal 638161080.035662\n",
      "ssresidual 27850448.0\n",
      "R_squared error is: 0.9563582786990964\n"
     ]
    }
   ],
   "source": [
    "from tqdm import tqdm\n",
    "d_csv=pd.read_csv('5_d.csv')\n",
    "y_mean=d_csv['y'].sum()/len(d_csv)\n",
    "ss_tot=0\n",
    "ss_res=0\n",
    "def ss_total():\n",
    "    for i in tqdm(range(0,len(d_csv))):\n",
    "        global ss_tot\n",
    "        ss_tot+=(d_csv['y'].loc[i]-y_mean)*(d_csv['y'].loc[i]-y_mean)\n",
    "    return ss_tot\n",
    "\n",
    "def ss_residual():\n",
    "    global ss_res\n",
    "    for i in tqdm(range(0,len(d_csv))):\n",
    "        ss_res+=((d_csv.y[i])-(d_csv.pred[i]))*((d_csv.y[i])-(d_csv.pred[i]))\n",
    "    return ss_res\n",
    "\n",
    "ss_total()\n",
    "ss_residual()\n",
    "r_squared=1-(ss_res/ss_tot)\n",
    "print('sstotal',ss_tot)\n",
    "\n",
    "print('ssresidual',ss_res)\n",
    "\n",
    "print('R_squared error is:',r_squared)"
   ]
  },
  {
   "cell_type": "code",
   "execution_count": null,
   "metadata": {},
   "outputs": [],
   "source": []
  },
  {
   "cell_type": "code",
   "execution_count": null,
   "metadata": {},
   "outputs": [],
   "source": []
  }
 ],
 "metadata": {
  "kernelspec": {
   "display_name": "Python 3",
   "language": "python",
   "name": "python3"
  },
  "language_info": {
   "codemirror_mode": {
    "name": "ipython",
    "version": 3
   },
   "file_extension": ".py",
   "mimetype": "text/x-python",
   "name": "python",
   "nbconvert_exporter": "python",
   "pygments_lexer": "ipython3",
   "version": "3.6.5"
  }
 },
 "nbformat": 4,
 "nbformat_minor": 2
}
